{
 "cells": [
  {
   "cell_type": "markdown",
   "metadata": {},
   "source": [
    "# Webscraping OkadaBooks"
   ]
  },
  {
   "cell_type": "markdown",
   "metadata": {},
   "source": [
    "N/B: If you are already familiar with webscraping, you can skip to Part 4 that has a code block of the full scraping algorithm."
   ]
  },
  {
   "cell_type": "markdown",
   "metadata": {},
   "source": [
    "## Part 1: Getting specific data "
   ]
  },
  {
   "cell_type": "markdown",
   "metadata": {},
   "source": [
    "There are 22 categories on okadabooks.com. My aim is to extract all relevant information (Title, Author, No of reads, Rating, Price, Blurb and Link to Book) from each bookcard. Before looping all through the categories, the code for getting each specific content is generated from one of the categories (In this case: fiction)."
   ]
  },
  {
   "cell_type": "markdown",
   "metadata": {},
   "source": [
    "### Reading the webpage into python"
   ]
  },
  {
   "cell_type": "code",
   "execution_count": 1,
   "metadata": {},
   "outputs": [],
   "source": [
    "import requests"
   ]
  },
  {
   "cell_type": "code",
   "execution_count": 2,
   "metadata": {},
   "outputs": [],
   "source": [
    "### Calling headers to imitate browser window\n",
    "headers = {'User-Agent': 'Mozilla/5.0 (Windows NT 6.3; Win64; x64) AppleWebKit/537.36 (KHTML, like Gecko) Chrome/54.0.2840.71 Safari/537.36'}"
   ]
  },
  {
   "cell_type": "code",
   "execution_count": 3,
   "metadata": {},
   "outputs": [],
   "source": [
    "response = requests.get('https://okadabooks.com/category/fiction/5', headers=headers)"
   ]
  },
  {
   "cell_type": "code",
   "execution_count": 4,
   "metadata": {},
   "outputs": [
    {
     "name": "stdout",
     "output_type": "stream",
     "text": [
      "<!DOCTYPE html><html><head><title class=\"next-head\">Mystery | OkadaBooks</title><meta charSet=\"utf-8\" class=\"next-head\"/><meta http-equiv=\"X-UA-Compatible\" content=\"IE=edge\" class=\"next-head\"/><meta name=\"viewport\" content=\"width=device-width, initial-scale=1\" class=\"next-head\"/><meta name=\"description\" content=\"OkadaBooks is a fast, simple and fun way to read books without ever leaving your couch\" class=\"next-head\"/><meta name=\"url\" content=\"https://okadabooks.com/\" class=\"next-head\"/><meta nam\n"
     ]
    }
   ],
   "source": [
    "### Print first 500 characters of Html\n",
    "print(response.text[0:500])"
   ]
  },
  {
   "cell_type": "markdown",
   "metadata": {},
   "source": [
    "### Parsing the html through BeautifulSoup"
   ]
  },
  {
   "cell_type": "code",
   "execution_count": 5,
   "metadata": {},
   "outputs": [],
   "source": [
    "from bs4 import BeautifulSoup"
   ]
  },
  {
   "cell_type": "code",
   "execution_count": 6,
   "metadata": {},
   "outputs": [],
   "source": [
    "soup= BeautifulSoup(response.text, 'html.parser')"
   ]
  },
  {
   "cell_type": "code",
   "execution_count": 7,
   "metadata": {},
   "outputs": [],
   "source": [
    "## On 'https://okadabooks.com/category/fiction/5' , Right-click on a bookcard and click on inspect,\n",
    "## the take note the class section which highlights the whole bookcard.\n",
    "\n",
    "bookcards= soup.find_all('div', {'class':'book__card'})"
   ]
  },
  {
   "cell_type": "code",
   "execution_count": 8,
   "metadata": {},
   "outputs": [
    {
     "data": {
      "text/plain": [
       "12"
      ]
     },
     "execution_count": 8,
     "metadata": {},
     "output_type": "execute_result"
    }
   ],
   "source": [
    "len(bookcards)"
   ]
  },
  {
   "cell_type": "code",
   "execution_count": 9,
   "metadata": {},
   "outputs": [],
   "source": [
    "### Concentrating on the first bookcard to scrap specific data.\n",
    "bookcard= bookcards[0]"
   ]
  },
  {
   "cell_type": "code",
   "execution_count": 10,
   "metadata": {},
   "outputs": [
    {
     "name": "stdout",
     "output_type": "stream",
     "text": [
      "<div class=\"book__card\">\n",
      " <div class=\"book\">\n",
      "  <div class=\"book__cover--container\">\n",
      "   <a href=\"/book/about/magajin_wilbafos_chapter_272_zaren_laid_n/30045\">\n",
      "    <img alt=\"Magajin Wilbafos [Chapter 272] : Zaren Laidán\" src=\"https://okada-assets-production.s3.eu-west-2.amazonaws.com/applications/content/images/bookImages/73e5b10c1a1b5396348bcd6b96bfc95d.jpg\"/>\n",
      "   </a>\n",
      "  </div>\n",
      "  <div class=\"book__content\">\n",
      "   <h3 class=\"title\">\n",
      "    <a href=\"/book/about/magajin_wilbafos_chapter_272_zaren_laid_n/30045\">\n",
      "     <span class=\"text-truncate\">\n",
      "      magajin wilbafos [chapter 272] : zaren laidán\n",
      "     </span>\n",
      "    </a>\n",
      "   </h3>\n",
      "   <div class=\"stats__container\">\n",
      "    <div class=\"reads\">\n",
      "     <span class=\"icon\">\n",
      "      <i class=\"icon ion-md-eye\">\n",
      "      </i>\n",
      "     </span>\n",
      "     <span class=\"text\">\n",
      "      22\n",
      "      <!-- -->\n",
      "      <!-- -->\n",
      "      reads\n",
      "     </span>\n",
      "    </div>\n",
      "    <div class=\"ratings\" title=\"ratings\">\n",
      "     <span class=\"icon\">\n",
      "      <i class=\"icon ion-md-star\">\n",
      "      </i>\n",
      "     </span>\n",
      "     <span class=\"text\">\n",
      "      0\n",
      "     </span>\n",
      "    </div>\n",
      "   </div>\n",
      "   <span class=\"prize\">\n",
      "    <strong>\n",
      "     ₦10.00\n",
      "    </strong>\n",
      "   </span>\n",
      "   <p class=\"description\">\n",
      "    <span width=\"0\">\n",
      "     <span>\n",
      "     </span>\n",
      "     <span>\n",
      "      Labarin Izza!!\n",
      "     </span>\n",
      "     <span style=\"position:fixed;visibility:hidden;top:0;left:0\">\n",
      "      <span>\n",
      "       ...\n",
      "      </span>\n",
      "     </span>\n",
      "    </span>\n",
      "   </p>\n",
      "   <div class=\"author__details\">\n",
      "    <a href=\"https://okadabooks.com/user/Magajinwilbafos\">\n",
      "     <div class=\"avatar\">\n",
      "      <img alt=\"Author Image\" src=\"https://okada-assets-production.s3.eu-west-2.amazonaws.com/applications/content/images/profilePhotos/c050c5b05c47955d3e7cff75aba5776d12f6e507.jpg\"/>\n",
      "     </div>\n",
      "     <h5 class=\"name\">\n",
      "      by A M Ibrahim\n",
      "     </h5>\n",
      "    </a>\n",
      "   </div>\n",
      "  </div>\n",
      " </div>\n",
      " <span class=\"footer\">\n",
      "  <a href=\"/book/about/magajin_wilbafos_chapter_272_zaren_laid_n/30045\">\n",
      "   <span class=\"\">\n",
      "    <span>\n",
      "     Available to read on app and web\n",
      "    </span>\n",
      "    <i class=\"icon fa fa-dribbble\">\n",
      "    </i>\n",
      "   </span>\n",
      "  </a>\n",
      " </span>\n",
      "</div>\n"
     ]
    }
   ],
   "source": [
    "### This helps to arrange the html contect in a structured manner so that the different tags can \n",
    "### quickly be gotten.\n",
    "\n",
    "print(bookcard.prettify())"
   ]
  },
  {
   "cell_type": "code",
   "execution_count": 11,
   "metadata": {},
   "outputs": [],
   "source": [
    "### Title\n",
    "title = bookcard.find('span', {'class':\"text-truncate\"})"
   ]
  },
  {
   "cell_type": "code",
   "execution_count": 12,
   "metadata": {},
   "outputs": [
    {
     "data": {
      "text/plain": [
       "'magajin wilbafos [chapter 272] : zaren laidán'"
      ]
     },
     "execution_count": 12,
     "metadata": {},
     "output_type": "execute_result"
    }
   ],
   "source": [
    "title.text"
   ]
  },
  {
   "cell_type": "code",
   "execution_count": 13,
   "metadata": {},
   "outputs": [],
   "source": [
    "###Price\n",
    "price= bookcard.find(\"strong\")"
   ]
  },
  {
   "cell_type": "code",
   "execution_count": 14,
   "metadata": {},
   "outputs": [
    {
     "data": {
      "text/plain": [
       "'₦10.00'"
      ]
     },
     "execution_count": 14,
     "metadata": {},
     "output_type": "execute_result"
    }
   ],
   "source": [
    "price.text"
   ]
  },
  {
   "cell_type": "code",
   "execution_count": 15,
   "metadata": {},
   "outputs": [
    {
     "data": {
      "text/plain": [
       "'10'"
      ]
     },
     "execution_count": 15,
     "metadata": {},
     "output_type": "execute_result"
    }
   ],
   "source": [
    "price.text[1:-3]"
   ]
  },
  {
   "cell_type": "code",
   "execution_count": 16,
   "metadata": {},
   "outputs": [
    {
     "data": {
      "text/plain": [
       "'10'"
      ]
     },
     "execution_count": 16,
     "metadata": {},
     "output_type": "execute_result"
    }
   ],
   "source": [
    "bookcard.find('strong').text[1:-3]"
   ]
  },
  {
   "cell_type": "code",
   "execution_count": 17,
   "metadata": {},
   "outputs": [],
   "source": [
    "### Author's name\n",
    "\n",
    "Author= bookcard.find('h5', {'class':\"name\"})"
   ]
  },
  {
   "cell_type": "code",
   "execution_count": 18,
   "metadata": {},
   "outputs": [
    {
     "data": {
      "text/plain": [
       "'by A M Ibrahim '"
      ]
     },
     "execution_count": 18,
     "metadata": {},
     "output_type": "execute_result"
    }
   ],
   "source": [
    "Author.text"
   ]
  },
  {
   "cell_type": "code",
   "execution_count": 19,
   "metadata": {},
   "outputs": [
    {
     "data": {
      "text/plain": [
       "'A M Ibrahim '"
      ]
     },
     "execution_count": 19,
     "metadata": {},
     "output_type": "execute_result"
    }
   ],
   "source": [
    "Author.text[3:]"
   ]
  },
  {
   "cell_type": "code",
   "execution_count": 20,
   "metadata": {},
   "outputs": [],
   "source": [
    "### No of reads\n",
    "read= bookcard.find('div', {'class':\"reads\"})"
   ]
  },
  {
   "cell_type": "code",
   "execution_count": 21,
   "metadata": {},
   "outputs": [
    {
     "data": {
      "text/plain": [
       "'22 reads'"
      ]
     },
     "execution_count": 21,
     "metadata": {},
     "output_type": "execute_result"
    }
   ],
   "source": [
    "read.text"
   ]
  },
  {
   "cell_type": "code",
   "execution_count": 22,
   "metadata": {},
   "outputs": [
    {
     "data": {
      "text/plain": [
       "'22 '"
      ]
     },
     "execution_count": 22,
     "metadata": {},
     "output_type": "execute_result"
    }
   ],
   "source": [
    "read.text[:-5]"
   ]
  },
  {
   "cell_type": "code",
   "execution_count": 23,
   "metadata": {},
   "outputs": [],
   "source": [
    "### Rating's score\n",
    "rating = bookcard.find('div', {'title':\"ratings\"})"
   ]
  },
  {
   "cell_type": "code",
   "execution_count": 24,
   "metadata": {},
   "outputs": [
    {
     "data": {
      "text/plain": [
       "'0'"
      ]
     },
     "execution_count": 24,
     "metadata": {},
     "output_type": "execute_result"
    }
   ],
   "source": [
    "rating.text"
   ]
  },
  {
   "cell_type": "code",
   "execution_count": 25,
   "metadata": {},
   "outputs": [],
   "source": [
    "### Blurb/ Book description\n",
    "blurb = bookcard.find('p', {'class':\"description\"})"
   ]
  },
  {
   "cell_type": "code",
   "execution_count": 26,
   "metadata": {},
   "outputs": [
    {
     "data": {
      "text/plain": [
       "'Labarin Izza!! ...'"
      ]
     },
     "execution_count": 26,
     "metadata": {},
     "output_type": "execute_result"
    }
   ],
   "source": [
    "blurb.text"
   ]
  },
  {
   "cell_type": "code",
   "execution_count": 27,
   "metadata": {},
   "outputs": [
    {
     "data": {
      "text/plain": [
       "[<a href=\"/book/about/magajin_wilbafos_chapter_272_zaren_laid_n/30045\"><img alt=\"Magajin Wilbafos [Chapter 272] : Zaren Laidán\" src=\"https://okada-assets-production.s3.eu-west-2.amazonaws.com/applications/content/images/bookImages/73e5b10c1a1b5396348bcd6b96bfc95d.jpg\"/></a>,\n",
       " <a href=\"/book/about/magajin_wilbafos_chapter_272_zaren_laid_n/30045\"><span class=\"text-truncate\">magajin wilbafos [chapter 272] : zaren laidán</span></a>,\n",
       " <a href=\"https://okadabooks.com/user/Magajinwilbafos\"><div class=\"avatar\"><img alt=\"Author Image\" src=\"https://okada-assets-production.s3.eu-west-2.amazonaws.com/applications/content/images/profilePhotos/c050c5b05c47955d3e7cff75aba5776d12f6e507.jpg\"/></div><h5 class=\"name\">by A M Ibrahim </h5></a>,\n",
       " <a href=\"/book/about/magajin_wilbafos_chapter_272_zaren_laid_n/30045\"><span class=\"\"><span>Available to read on app and web</span><i class=\"icon fa fa-dribbble\"></i></span></a>]"
      ]
     },
     "execution_count": 27,
     "metadata": {},
     "output_type": "execute_result"
    }
   ],
   "source": [
    "### The link to the book is embedded in the 'a' tag while book cover is in the 'img' tage\n",
    "bookcard.find_all('a')"
   ]
  },
  {
   "cell_type": "code",
   "execution_count": 28,
   "metadata": {},
   "outputs": [
    {
     "data": {
      "text/plain": [
       "'/book/about/magajin_wilbafos_chapter_272_zaren_laid_n/30045'"
      ]
     },
     "execution_count": 28,
     "metadata": {},
     "output_type": "execute_result"
    }
   ],
   "source": [
    "###About the book(Link to a summary of the book)\n",
    "bookcard.find('a')['href']"
   ]
  },
  {
   "cell_type": "code",
   "execution_count": 29,
   "metadata": {},
   "outputs": [],
   "source": [
    "base = 'https://okadabooks.com'"
   ]
  },
  {
   "cell_type": "code",
   "execution_count": 30,
   "metadata": {},
   "outputs": [
    {
     "data": {
      "text/plain": [
       "'https://okadabooks.com/book/about/magajin_wilbafos_chapter_272_zaren_laid_n/30045'"
      ]
     },
     "execution_count": 30,
     "metadata": {},
     "output_type": "execute_result"
    }
   ],
   "source": [
    "base + bookcard.find('a')['href'] "
   ]
  },
  {
   "cell_type": "markdown",
   "metadata": {},
   "source": [
    "---"
   ]
  },
  {
   "cell_type": "markdown",
   "metadata": {},
   "source": [
    "## Part 2 : Automation"
   ]
  },
  {
   "cell_type": "markdown",
   "metadata": {},
   "source": [
    "In each category, there is a load more button which when clicked on, reveals more bookcards. I am going to use selenium to click on the button till it reaches the end of the page and it is no longer available. This is when dynamic scraping begins."
   ]
  },
  {
   "cell_type": "code",
   "execution_count": 1,
   "metadata": {},
   "outputs": [],
   "source": [
    "from selenium import webdriver"
   ]
  },
  {
   "cell_type": "code",
   "execution_count": 2,
   "metadata": {},
   "outputs": [],
   "source": [
    "options = webdriver.ChromeOptions()\n",
    "options.add_argument('--ignore-certificate-errors')\n",
    "options.add_argument('--incognito') \n",
    "\n",
    "## In the final forloop, a headless argument will be used in order not to open the browser when \n",
    "## automation is going on. Incognito option means an incognito window will be used."
   ]
  },
  {
   "cell_type": "code",
   "execution_count": 10,
   "metadata": {},
   "outputs": [
    {
     "name": "stderr",
     "output_type": "stream",
     "text": [
      "C:\\Users\\ru\\Anaconda3\\lib\\site-packages\\ipykernel_launcher.py:3: DeprecationWarning: use options instead of chrome_options\n",
      "  This is separate from the ipykernel package so we can avoid doing imports until\n"
     ]
    }
   ],
   "source": [
    "### The executable path is where I my chrome driver is located in my browser. Change it to yours.\n",
    "\n",
    "driver=webdriver.Chrome(executable_path= 'C:/Users/ru/Downloads/Programs/chromedriver', chrome_options=options)"
   ]
  },
  {
   "cell_type": "code",
   "execution_count": 11,
   "metadata": {},
   "outputs": [],
   "source": [
    "driver.get('https://okadabooks.com/category/fiction/5')"
   ]
  },
  {
   "cell_type": "code",
   "execution_count": 6,
   "metadata": {},
   "outputs": [],
   "source": [
    "from selenium.webdriver.support.ui import WebDriverWait\n",
    "from selenium.webdriver.support import expected_conditions as EC\n",
    "from selenium.webdriver.common.by import By\n",
    "\n",
    "\n",
    "from selenium.webdriver.common.action_chains import ActionChains\n",
    "\n",
    "from selenium.common.exceptions import TimeoutException\n",
    "from selenium.common.exceptions import NoSuchElementException\n",
    "from selenium.common.exceptions import ElementClickInterceptedException\n",
    "from selenium.common.exceptions import StaleElementReferenceException"
   ]
  },
  {
   "cell_type": "code",
   "execution_count": 12,
   "metadata": {},
   "outputs": [],
   "source": [
    "### Get the css path by right clicking on the html tag gotten from inspecting the load more button.\n",
    "### This clicks it once. \n",
    "\n",
    "okada= driver.find_element_by_css_selector('#_app > div.main-wrapper > main > div > main > div > div.col-lg-9 > div > div.container.d-flex.justify-content-center.mb-5 > button')\n",
    "okada.click()"
   ]
  },
  {
   "cell_type": "code",
   "execution_count": 8,
   "metadata": {},
   "outputs": [
    {
     "name": "stdout",
     "output_type": "stream",
     "text": [
      "Timeout exception\n"
     ]
    }
   ],
   "source": [
    "### This is to continue pressing the load more button till it is no longer there. It will be commented\n",
    "### here. Check final forloop for usage. Action chains help in scrolling to reveal the element (which\n",
    "## is the load button in this case.). time.sleep() is an extreme case of webdriver wait which is used\n",
    "## here. Selenium exceptions helps to cater for instances of errors. \n",
    "\n",
    "import time \n",
    "\n",
    "while True:\n",
    "    try:\n",
    "        element_present = EC.presence_of_element_located((By.CSS_SELECTOR, '#_app > div.main-wrapper > main > div > main > div > div.col-lg-9 > div > div.container.d-flex.justify-content-center.mb-5 > button'))\n",
    "        WebDriverWait(driver, 10).until(element_present)\n",
    "        load_button= driver.find_element_by_css_selector('#_app > div.main-wrapper > main > div > main > div > div.col-lg-9 > div > div.container.d-flex.justify-content-center.mb-5 > button')\n",
    "        load_button.click()\n",
    "    except ElementClickInterceptedException:     \n",
    "        ActionChains(driver).move_to_element(load_button).click().perform()\n",
    "    except TimeoutException:\n",
    "        print(\"Timeout exception\")\n",
    "        break"
   ]
  },
  {
   "cell_type": "markdown",
   "metadata": {},
   "source": [
    "## Part 3: Getting all the urls for each category"
   ]
  },
  {
   "cell_type": "markdown",
   "metadata": {},
   "source": [
    "Instead of typing all the urls for each category, it can easily gottten from the html tag. On okadbooks.com/store, right-click and inspect the category wrapper (where you click, it redirects you to the page of the category.)\n"
   ]
  },
  {
   "cell_type": "code",
   "execution_count": 3,
   "metadata": {},
   "outputs": [],
   "source": [
    "import pandas as pd"
   ]
  },
  {
   "cell_type": "code",
   "execution_count": 3,
   "metadata": {},
   "outputs": [],
   "source": [
    "import requests\n",
    "from bs4 import BeautifulSoup"
   ]
  },
  {
   "cell_type": "code",
   "execution_count": 6,
   "metadata": {},
   "outputs": [],
   "source": [
    "r = requests.get(\"https://okadabooks.com/store\", headers=headers)\n",
    "soup= BeautifulSoup(r.text, 'html.parser')"
   ]
  },
  {
   "cell_type": "code",
   "execution_count": 7,
   "metadata": {},
   "outputs": [
    {
     "data": {
      "text/plain": [
       "'/category/science_fiction/1'"
      ]
     },
     "execution_count": 7,
     "metadata": {},
     "output_type": "execute_result"
    }
   ],
   "source": [
    "soup.find_all('a')[8]['href']"
   ]
  },
  {
   "cell_type": "code",
   "execution_count": 39,
   "metadata": {},
   "outputs": [
    {
     "data": {
      "text/plain": [
       "'science_fiction'"
      ]
     },
     "execution_count": 39,
     "metadata": {},
     "output_type": "execute_result"
    }
   ],
   "source": [
    "### Corresponding category can be gotten from the url\n",
    "soup.find_all('a')[8]['href'][10:-2]"
   ]
  },
  {
   "cell_type": "code",
   "execution_count": 8,
   "metadata": {},
   "outputs": [],
   "source": [
    "base = 'https://okadabooks.com'\n",
    "urls=[]\n",
    "category= []\n",
    "for i in range(8,30):\n",
    "    urls.append(base + soup.find_all('a')[i]['href'])\n",
    "    if i <=16:\n",
    "        category.append(soup.find_all('a')[i]['href'][10:-2])\n",
    "    else:\n",
    "        category.append(soup.find_all('a')[i]['href'][10:-3])"
   ]
  },
  {
   "cell_type": "code",
   "execution_count": 9,
   "metadata": {},
   "outputs": [
    {
     "data": {
      "text/plain": [
       "['https://okadabooks.com/category/science_fiction/1',\n",
       " 'https://okadabooks.com/category/business_finance/2',\n",
       " 'https://okadabooks.com/category/religion_and_beliefs/3',\n",
       " 'https://okadabooks.com/category/self_help/4',\n",
       " 'https://okadabooks.com/category/mystery/5',\n",
       " 'https://okadabooks.com/category/educational/6',\n",
       " 'https://okadabooks.com/category/memoir/7',\n",
       " 'https://okadabooks.com/category/fiction/8',\n",
       " 'https://okadabooks.com/category/non-fiction/9',\n",
       " 'https://okadabooks.com/category/health_living/10',\n",
       " 'https://okadabooks.com/category/other/11',\n",
       " 'https://okadabooks.com/category/children/12',\n",
       " 'https://okadabooks.com/category/romance/13',\n",
       " 'https://okadabooks.com/category/adventure/14',\n",
       " 'https://okadabooks.com/category/free/15',\n",
       " 'https://okadabooks.com/category/raw_unpublished_works/16',\n",
       " 'https://okadabooks.com/category/comics/17',\n",
       " 'https://okadabooks.com/category/history/18',\n",
       " 'https://okadabooks.com/category/drama/19',\n",
       " 'https://okadabooks.com/category/poetry/20',\n",
       " 'https://okadabooks.com/category/humor/21',\n",
       " 'https://okadabooks.com/category/erotic/22']"
      ]
     },
     "execution_count": 9,
     "metadata": {},
     "output_type": "execute_result"
    }
   ],
   "source": [
    "urls"
   ]
  },
  {
   "cell_type": "code",
   "execution_count": 42,
   "metadata": {},
   "outputs": [],
   "source": [
    "### Creating a dictionary with category as its value\n",
    "cat= dict(zip(urls,category))"
   ]
  },
  {
   "cell_type": "code",
   "execution_count": 43,
   "metadata": {},
   "outputs": [
    {
     "data": {
      "text/plain": [
       "{'https://okadabooks.com/category/science_fiction/1': 'science_fiction',\n",
       " 'https://okadabooks.com/category/business_finance/2': 'business_finance',\n",
       " 'https://okadabooks.com/category/religion_and_beliefs/3': 'religion_and_beliefs',\n",
       " 'https://okadabooks.com/category/self_help/4': 'self_help',\n",
       " 'https://okadabooks.com/category/mystery/5': 'mystery',\n",
       " 'https://okadabooks.com/category/educational/6': 'educational',\n",
       " 'https://okadabooks.com/category/memoir/7': 'memoir',\n",
       " 'https://okadabooks.com/category/fiction/8': 'fiction',\n",
       " 'https://okadabooks.com/category/non-fiction/9': 'non-fiction',\n",
       " 'https://okadabooks.com/category/health_living/10': 'health_living',\n",
       " 'https://okadabooks.com/category/other/11': 'other',\n",
       " 'https://okadabooks.com/category/children/12': 'children',\n",
       " 'https://okadabooks.com/category/romance/13': 'romance',\n",
       " 'https://okadabooks.com/category/adventure/14': 'adventure',\n",
       " 'https://okadabooks.com/category/free/15': 'free',\n",
       " 'https://okadabooks.com/category/raw_unpublished_works/16': 'raw_unpublished_works',\n",
       " 'https://okadabooks.com/category/comics/17': 'comics',\n",
       " 'https://okadabooks.com/category/history/18': 'history',\n",
       " 'https://okadabooks.com/category/drama/19': 'drama',\n",
       " 'https://okadabooks.com/category/poetry/20': 'poetry',\n",
       " 'https://okadabooks.com/category/humor/21': 'humor',\n",
       " 'https://okadabooks.com/category/erotic/22': 'erotic'}"
      ]
     },
     "execution_count": 43,
     "metadata": {},
     "output_type": "execute_result"
    }
   ],
   "source": [
    "cat"
   ]
  },
  {
   "cell_type": "markdown",
   "metadata": {},
   "source": [
    "---"
   ]
  },
  {
   "cell_type": "markdown",
   "metadata": {},
   "source": [
    "## Part 4: Final Scraping"
   ]
  },
  {
   "cell_type": "markdown",
   "metadata": {},
   "source": [
    "All sections of the code as explained above have been merged into a forloop that iterates through the 22 pages. If-else statements have been included in the extraction of bookcard details to cater for exceptions. example: Replacing 'K' with '000' for reads."
   ]
  },
  {
   "cell_type": "code",
   "execution_count": 14,
   "metadata": {},
   "outputs": [
    {
     "name": "stdout",
     "output_type": "stream",
     "text": [
      "i have succesfully scraped 39562 bookcards\n"
     ]
    }
   ],
   "source": [
    "## important\n",
    "\n",
    "import requests\n",
    "from bs4 import BeautifulSoup\n",
    "import time\n",
    "\n",
    "headers = {'User-Agent': 'Mozilla/5.0 (Windows NT 6.3; Win64; x64) AppleWebKit/537.36 (KHTML, like Gecko) Chrome/54.0.2840.71 Safari/537.36'}\n",
    "r = requests.get(\"https://okadabooks.com/store\", headers=headers)\n",
    "soup= BeautifulSoup(r.text, 'html.parser')\n",
    "\n",
    "base = 'https://okadabooks.com'\n",
    "urls=[]\n",
    "category= []\n",
    "\n",
    "for i in range(8,30):\n",
    "    urls.append(base + soup.find_all('a')[i]['href'])\n",
    "    if i <=16:\n",
    "        category.append(soup.find_all('a')[i]['href'][10:-2])\n",
    "    else:\n",
    "        category.append(soup.find_all('a')[i]['href'][10:-3])\n",
    "        \n",
    "cat= dict(zip(urls,category))  ##Dictionary of category and urls\n",
    "\n",
    "from selenium import webdriver\n",
    "options = webdriver.ChromeOptions()\n",
    "options.add_argument('--ignore-certificate-errors')\n",
    "options.add_argument('--incognito')\n",
    "options.add_argument('--headless')  ## chrome will run in the background to make the process faster.\n",
    "options.add_argument(\"user-agent='Mozilla/5.0 (Windows NT 6.3; Win64; x64) AppleWebKit/537.36 (KHTML, like Gecko) Chrome/54.0.2840.71 Safari/537.36'\")\n",
    "\n",
    "prefs={\"profile.managed_default_content_settings.images\": 2} ##blocks all images on webpages, disk cache\n",
    "options.add_experimental_option(\"prefs\", prefs)\n",
    "driver=webdriver.Chrome(executable_path= 'C:/Users/ru/Downloads/Programs/chromedriver', chrome_options=options)\n",
    "\n",
    "from selenium.webdriver.support.ui import WebDriverWait\n",
    "from selenium.webdriver.support import expected_conditions as EC\n",
    "from selenium.webdriver.common.by import By\n",
    "\n",
    "\n",
    "from selenium.webdriver.common.action_chains import ActionChains\n",
    "\n",
    "from selenium.common.exceptions import TimeoutException\n",
    "from selenium.common.exceptions import NoSuchElementException\n",
    "from selenium.common.exceptions import ElementClickInterceptedException\n",
    "from selenium.common.exceptions import StaleElementReferenceException\n",
    "\n",
    "ignored_exceptions=(NoSuchElementException,StaleElementReferenceException,)\n",
    "\n",
    "Title=[]\n",
    "Author=[]\n",
    "Genre=[]\n",
    "Price=[]\n",
    "Ratings=[]\n",
    "Reads=[]\n",
    "Blurb= []\n",
    "Booklink=[]\n",
    "\n",
    "\n",
    "\n",
    "for url in urls:\n",
    "    \n",
    "    driver.get(url)\n",
    "    \n",
    "    driver.implicitly_wait(10)\n",
    "    \n",
    "    while True:\n",
    "        try:\n",
    "            element_present = EC.presence_of_element_located((By.CSS_SELECTOR, '#_app > div.main-wrapper > main > div > main > div > div.col-lg-9 > div > div.container.d-flex.justify-content-center.mb-5 > button'))\n",
    "            WebDriverWait(driver, 10, ignored_exceptions=ignored_exceptions).until(element_present)\n",
    "            load_button= driver.find_element_by_css_selector('#_app > div.main-wrapper > main > div > main > div > div.col-lg-9 > div > div.container.d-flex.justify-content-center.mb-5 > button')\n",
    "            load_button.click()\n",
    "        except ElementClickInterceptedException:     \n",
    "            ActionChains(driver).move_to_element(load_button).click().perform()\n",
    "        except StaleElementReferenceException:\n",
    "            break\n",
    "        except NoSuchElementException:\n",
    "            break\n",
    "        except TimeoutException:\n",
    "            break\n",
    "    \n",
    "    time.sleep(5)\n",
    "    \n",
    "    \n",
    "    page_source= driver.page_source ##get page source after clicking load more button it dissapers\n",
    "    \n",
    "    soup= BeautifulSoup(page_source, 'html.parser')\n",
    "    \n",
    "    bookcards= soup.find_all('div', {'class':'book__card'})\n",
    "    bookcard= bookcards[0]\n",
    "\n",
    "    \n",
    "    for bookcard in bookcards:\n",
    "        \n",
    "        ##Title\n",
    "        Title.append(bookcard.find('span', {'class':\"text-truncate\"}).text)\n",
    "        \n",
    "        ##Author\n",
    "        Author.append(bookcard.find('h5', {'class':\"name\"}).text[3:])\n",
    "        \n",
    "        ##Genre\n",
    "        Genre.append(cat[url])\n",
    "        \n",
    "        ##Price\n",
    "        price= bookcard.find(\"strong\").text\n",
    "        if price=='Free':\n",
    "            Price.append(0)\n",
    "        else:\n",
    "            Price.append(int(price[1:-3]))\n",
    "        \n",
    "        ### Ratings   \n",
    "        Ratings.append(float(bookcard.find('div', {'title':\"ratings\"}).text))\n",
    "        \n",
    "        ##Reads\n",
    "        Reads.append(int(bookcard.find('div', {'class':\"reads\"}).text[:-5].strip().replace('K','000')))\n",
    "        \n",
    "        \n",
    "        ###Book Link\n",
    "        Booklink.append(base + bookcard.find('a')['href'])\n",
    "        \n",
    "        \n",
    "    time.sleep(1)\n",
    "    \n",
    "driver.quit()\n",
    "    \n",
    "print(\"i have succesfully scraped {} bookcards\".format(len(Title)))"
   ]
  },
  {
   "cell_type": "markdown",
   "metadata": {},
   "source": [
    "### Creating a dataframe "
   ]
  },
  {
   "cell_type": "code",
   "execution_count": 1,
   "metadata": {},
   "outputs": [],
   "source": [
    "import pandas as pd\n"
   ]
  },
  {
   "cell_type": "code",
   "execution_count": 16,
   "metadata": {},
   "outputs": [],
   "source": [
    "cols=['Title','Author','Genre','Price','Reads', 'Ratings', 'Booklink']"
   ]
  },
  {
   "cell_type": "code",
   "execution_count": 17,
   "metadata": {},
   "outputs": [],
   "source": [
    "df= pd.DataFrame({'Title':Title,'Author': Author,'Genre':Genre,'Price':Price, 'Reads':Reads, \\\n",
    "                  'Ratings':Ratings , 'Booklink': Booklink}, columns=cols)"
   ]
  },
  {
   "cell_type": "code",
   "execution_count": 80,
   "metadata": {},
   "outputs": [
    {
     "data": {
      "text/html": [
       "<div>\n",
       "<style scoped>\n",
       "    .dataframe tbody tr th:only-of-type {\n",
       "        vertical-align: middle;\n",
       "    }\n",
       "\n",
       "    .dataframe tbody tr th {\n",
       "        vertical-align: top;\n",
       "    }\n",
       "\n",
       "    .dataframe thead th {\n",
       "        text-align: right;\n",
       "    }\n",
       "</style>\n",
       "<table border=\"1\" class=\"dataframe\">\n",
       "  <thead>\n",
       "    <tr style=\"text-align: right;\">\n",
       "      <th></th>\n",
       "      <th>Title</th>\n",
       "      <th>Author</th>\n",
       "      <th>Genre</th>\n",
       "      <th>Price</th>\n",
       "      <th>Reads</th>\n",
       "      <th>Ratings</th>\n",
       "      <th>Booklink</th>\n",
       "    </tr>\n",
       "  </thead>\n",
       "  <tbody>\n",
       "    <tr>\n",
       "      <th>0</th>\n",
       "      <td>the long walk</td>\n",
       "      <td>Milton J Davis</td>\n",
       "      <td>science_fiction</td>\n",
       "      <td>360</td>\n",
       "      <td>0</td>\n",
       "      <td>0.0</td>\n",
       "      <td>https://okadabooks.com/book/about/the_long_walk/29737</td>\n",
       "    </tr>\n",
       "    <tr>\n",
       "      <th>1</th>\n",
       "      <td>bilisi: rebirth of the orisha #1.</td>\n",
       "      <td>Tomi Adegbite.</td>\n",
       "      <td>science_fiction</td>\n",
       "      <td>1500</td>\n",
       "      <td>0</td>\n",
       "      <td>0.0</td>\n",
       "      <td>https://okadabooks.com/book/about/bilisi_rebirth_of_the_orisha_1/29663</td>\n",
       "    </tr>\n",
       "    <tr>\n",
       "      <th>2</th>\n",
       "      <td>woman of the woods</td>\n",
       "      <td>Milton J Davis</td>\n",
       "      <td>science_fiction</td>\n",
       "      <td>1440</td>\n",
       "      <td>0</td>\n",
       "      <td>0.0</td>\n",
       "      <td>https://okadabooks.com/book/about/woman_of_the_woods/29664</td>\n",
       "    </tr>\n",
       "    <tr>\n",
       "      <th>3</th>\n",
       "      <td>badass</td>\n",
       "      <td>Razzy writer</td>\n",
       "      <td>science_fiction</td>\n",
       "      <td>0</td>\n",
       "      <td>11</td>\n",
       "      <td>0.0</td>\n",
       "      <td>https://okadabooks.com/book/about/badass/29642</td>\n",
       "    </tr>\n",
       "    <tr>\n",
       "      <th>4</th>\n",
       "      <td>priestess of nku</td>\n",
       "      <td>Milton J Davis</td>\n",
       "      <td>science_fiction</td>\n",
       "      <td>1440</td>\n",
       "      <td>0</td>\n",
       "      <td>0.0</td>\n",
       "      <td>https://okadabooks.com/book/about/priestess_of_nku/29626</td>\n",
       "    </tr>\n",
       "  </tbody>\n",
       "</table>\n",
       "</div>"
      ],
      "text/plain": [
       "                               Title          Author            Genre  Price  \\\n",
       "0  the long walk                      Milton J Davis  science_fiction  360     \n",
       "1  bilisi: rebirth of the orisha #1.  Tomi Adegbite.  science_fiction  1500    \n",
       "2  woman of the woods                 Milton J Davis  science_fiction  1440    \n",
       "3  badass                             Razzy writer    science_fiction  0       \n",
       "4  priestess of nku                   Milton J Davis  science_fiction  1440    \n",
       "\n",
       "   Reads  Ratings  \\\n",
       "0  0      0.0       \n",
       "1  0      0.0       \n",
       "2  0      0.0       \n",
       "3  11     0.0       \n",
       "4  0      0.0       \n",
       "\n",
       "                                                                 Booklink  \n",
       "0  https://okadabooks.com/book/about/the_long_walk/29737                   \n",
       "1  https://okadabooks.com/book/about/bilisi_rebirth_of_the_orisha_1/29663  \n",
       "2  https://okadabooks.com/book/about/woman_of_the_woods/29664              \n",
       "3  https://okadabooks.com/book/about/badass/29642                          \n",
       "4  https://okadabooks.com/book/about/priestess_of_nku/29626                "
      ]
     },
     "execution_count": 80,
     "metadata": {},
     "output_type": "execute_result"
    }
   ],
   "source": [
    "df.head()"
   ]
  },
  {
   "cell_type": "code",
   "execution_count": 79,
   "metadata": {},
   "outputs": [
    {
     "name": "stdout",
     "output_type": "stream",
     "text": [
      "<class 'pandas.core.frame.DataFrame'>\n",
      "Int64Index: 39562 entries, 0 to 18988\n",
      "Data columns (total 7 columns):\n",
      "Title       39562 non-null object\n",
      "Author      39562 non-null object\n",
      "Genre       39562 non-null object\n",
      "Price       39562 non-null int64\n",
      "Reads       39562 non-null int64\n",
      "Ratings     39562 non-null float64\n",
      "Booklink    39562 non-null object\n",
      "dtypes: float64(1), int64(2), object(4)\n",
      "memory usage: 2.4+ MB\n"
     ]
    }
   ],
   "source": [
    "df.info()"
   ]
  },
  {
   "cell_type": "markdown",
   "metadata": {},
   "source": [
    "---"
   ]
  },
  {
   "cell_type": "markdown",
   "metadata": {},
   "source": [
    "### Eliminating Duplicates"
   ]
  },
  {
   "cell_type": "markdown",
   "metadata": {},
   "source": [
    "The data file to be exported should not have duplicates. The algorithm behind load more button suggests there will be duplicates. In the data analysis to be conducted, these duplicates will make my findings inaccurate. An easy way is to eliminate duplicates using the booklink column. This is preferred over the 'Title' column because there are books with similar names that are entirely different."
   ]
  },
  {
   "cell_type": "code",
   "execution_count": 23,
   "metadata": {},
   "outputs": [],
   "source": [
    "df_okadabooks = df.drop_duplicates(['Booklink'])"
   ]
  },
  {
   "cell_type": "code",
   "execution_count": 84,
   "metadata": {},
   "outputs": [
    {
     "data": {
      "text/plain": [
       "14843"
      ]
     },
     "execution_count": 84,
     "metadata": {},
     "output_type": "execute_result"
    }
   ],
   "source": [
    "len(df_okadabooks)"
   ]
  },
  {
   "cell_type": "code",
   "execution_count": 82,
   "metadata": {},
   "outputs": [
    {
     "data": {
      "text/html": [
       "<div>\n",
       "<style scoped>\n",
       "    .dataframe tbody tr th:only-of-type {\n",
       "        vertical-align: middle;\n",
       "    }\n",
       "\n",
       "    .dataframe tbody tr th {\n",
       "        vertical-align: top;\n",
       "    }\n",
       "\n",
       "    .dataframe thead th {\n",
       "        text-align: right;\n",
       "    }\n",
       "</style>\n",
       "<table border=\"1\" class=\"dataframe\">\n",
       "  <thead>\n",
       "    <tr style=\"text-align: right;\">\n",
       "      <th></th>\n",
       "      <th>Title</th>\n",
       "      <th>Author</th>\n",
       "      <th>Genre</th>\n",
       "      <th>Price</th>\n",
       "      <th>Reads</th>\n",
       "      <th>Ratings</th>\n",
       "      <th>Booklink</th>\n",
       "    </tr>\n",
       "  </thead>\n",
       "  <tbody>\n",
       "    <tr>\n",
       "      <th>0</th>\n",
       "      <td>the long walk</td>\n",
       "      <td>Milton J Davis</td>\n",
       "      <td>science_fiction</td>\n",
       "      <td>360</td>\n",
       "      <td>0</td>\n",
       "      <td>0.0</td>\n",
       "      <td>https://okadabooks.com/book/about/the_long_walk/29737</td>\n",
       "    </tr>\n",
       "    <tr>\n",
       "      <th>1</th>\n",
       "      <td>bilisi: rebirth of the orisha #1.</td>\n",
       "      <td>Tomi Adegbite.</td>\n",
       "      <td>science_fiction</td>\n",
       "      <td>1500</td>\n",
       "      <td>0</td>\n",
       "      <td>0.0</td>\n",
       "      <td>https://okadabooks.com/book/about/bilisi_rebirth_of_the_orisha_1/29663</td>\n",
       "    </tr>\n",
       "    <tr>\n",
       "      <th>2</th>\n",
       "      <td>woman of the woods</td>\n",
       "      <td>Milton J Davis</td>\n",
       "      <td>science_fiction</td>\n",
       "      <td>1440</td>\n",
       "      <td>0</td>\n",
       "      <td>0.0</td>\n",
       "      <td>https://okadabooks.com/book/about/woman_of_the_woods/29664</td>\n",
       "    </tr>\n",
       "    <tr>\n",
       "      <th>3</th>\n",
       "      <td>badass</td>\n",
       "      <td>Razzy writer</td>\n",
       "      <td>science_fiction</td>\n",
       "      <td>0</td>\n",
       "      <td>11</td>\n",
       "      <td>0.0</td>\n",
       "      <td>https://okadabooks.com/book/about/badass/29642</td>\n",
       "    </tr>\n",
       "    <tr>\n",
       "      <th>4</th>\n",
       "      <td>priestess of nku</td>\n",
       "      <td>Milton J Davis</td>\n",
       "      <td>science_fiction</td>\n",
       "      <td>1440</td>\n",
       "      <td>0</td>\n",
       "      <td>0.0</td>\n",
       "      <td>https://okadabooks.com/book/about/priestess_of_nku/29626</td>\n",
       "    </tr>\n",
       "  </tbody>\n",
       "</table>\n",
       "</div>"
      ],
      "text/plain": [
       "                               Title          Author            Genre  Price  \\\n",
       "0  the long walk                      Milton J Davis  science_fiction  360     \n",
       "1  bilisi: rebirth of the orisha #1.  Tomi Adegbite.  science_fiction  1500    \n",
       "2  woman of the woods                 Milton J Davis  science_fiction  1440    \n",
       "3  badass                             Razzy writer    science_fiction  0       \n",
       "4  priestess of nku                   Milton J Davis  science_fiction  1440    \n",
       "\n",
       "   Reads  Ratings  \\\n",
       "0  0      0.0       \n",
       "1  0      0.0       \n",
       "2  0      0.0       \n",
       "3  11     0.0       \n",
       "4  0      0.0       \n",
       "\n",
       "                                                                 Booklink  \n",
       "0  https://okadabooks.com/book/about/the_long_walk/29737                   \n",
       "1  https://okadabooks.com/book/about/bilisi_rebirth_of_the_orisha_1/29663  \n",
       "2  https://okadabooks.com/book/about/woman_of_the_woods/29664              \n",
       "3  https://okadabooks.com/book/about/badass/29642                          \n",
       "4  https://okadabooks.com/book/about/priestess_of_nku/29626                "
      ]
     },
     "execution_count": 82,
     "metadata": {},
     "output_type": "execute_result"
    }
   ],
   "source": [
    "df_okadabooks.head()"
   ]
  },
  {
   "cell_type": "markdown",
   "metadata": {},
   "source": [
    "### Getting blurb"
   ]
  },
  {
   "cell_type": "markdown",
   "metadata": {},
   "source": [
    "Here is a more efficient way to get the blurb. I went to each unique booklink and scraped the blurb. Let use the first booklink from the table above-- https://okadabooks.com/book/about/the_long_walk/29737 ."
   ]
  },
  {
   "cell_type": "code",
   "execution_count": 24,
   "metadata": {},
   "outputs": [],
   "source": [
    "response= requests.get('https://okadabooks.com/book/about/badass/29642', headers=headers)"
   ]
  },
  {
   "cell_type": "code",
   "execution_count": 27,
   "metadata": {},
   "outputs": [
    {
     "data": {
      "text/plain": [
       "<Response [200]>"
      ]
     },
     "execution_count": 27,
     "metadata": {},
     "output_type": "execute_result"
    }
   ],
   "source": [
    "response"
   ]
  },
  {
   "cell_type": "code",
   "execution_count": 25,
   "metadata": {},
   "outputs": [],
   "source": [
    "root= BeautifulSoup(response.text, 'html.parser')"
   ]
  },
  {
   "cell_type": "code",
   "execution_count": 9,
   "metadata": {},
   "outputs": [
    {
     "data": {
      "text/plain": [
       "<div class=\"book-main__content\"><p>Patience de Verteuil left her home in Trinidad with her father for what she thought would be a short journey to America. Instead she finds herself embroiled in a struggle between powerful supernatural forces, in which an object in her possession means the difference between defeat or victory. The Long Walk is a Steamfunk tale that will stay with you long after the final words are read.\n",
       "\n",
       "Noticed an error in this book? Send a mail to flag@okadabooks.com to report it</p></div>"
      ]
     },
     "execution_count": 9,
     "metadata": {},
     "output_type": "execute_result"
    }
   ],
   "source": [
    "root.find('div', {'class': 'book-main__content'})"
   ]
  },
  {
   "cell_type": "code",
   "execution_count": 10,
   "metadata": {},
   "outputs": [
    {
     "data": {
      "text/plain": [
       "'Patience de Verteuil left her home in Trinidad with her father for what she thought would be a short journey to America. Instead she finds herself embroiled in a struggle between powerful supernatural forces, in which an object in her possession means the difference between defeat or victory. The Long Walk is a Steamfunk tale that will stay with you long after the final words are read.'"
      ]
     },
     "execution_count": 10,
     "metadata": {},
     "output_type": "execute_result"
    }
   ],
   "source": [
    "root.find('div', {'class': 'book-main__content'}).text[:-80]"
   ]
  },
  {
   "cell_type": "code",
   "execution_count": 5,
   "metadata": {},
   "outputs": [],
   "source": [
    "import requests\n",
    "import time\n",
    "from bs4 import BeautifulSoup"
   ]
  },
  {
   "cell_type": "code",
   "execution_count": 6,
   "metadata": {},
   "outputs": [],
   "source": [
    "Booklink_list= df_okadabooks.Booklink.tolist()"
   ]
  },
  {
   "cell_type": "code",
   "execution_count": 7,
   "metadata": {},
   "outputs": [],
   "source": [
    "def get_blurb():\n",
    "    response= requests.get(booklink, headers=headers, timeout=600)\n",
    "    root= BeautifulSoup(response.text, 'html.parser')\n",
    "    blurb_content= root.find('div', {'class': 'book-main__content'}).text[:-80]\n",
    "    return blurb_content"
   ]
  },
  {
   "cell_type": "code",
   "execution_count": 35,
   "metadata": {},
   "outputs": [
    {
     "name": "stdout",
     "output_type": "stream",
     "text": [
      "Timeout Error: https://okadabooks.com/book/about/the_faith_of_a_prostitute/26735 \n",
      "Timeout Error: https://okadabooks.com/book/about/bravery/28125 \n",
      "Timeout Error: https://okadabooks.com/book/about/yar_gidan_tsohuwa/27634 \n",
      "Timeout Error: https://okadabooks.com/book/about/the_chronicles_of_ola/15021 \n",
      "Timeout Error: https://okadabooks.com/book/about/the_whence_and_the_whither_of_man/4660\n",
      "\n",
      "succesfully gotten all blurbs\n"
     ]
    }
   ],
   "source": [
    "Blurb=[]\n",
    "for booklink in Booklink_list:\n",
    "    try:\n",
    "        time.sleep(1)\n",
    "        Blurb.append(get_blurb())\n",
    "    except AttributeError:\n",
    "        ### This is for if one of the urls is made unavailable because a book is removed \n",
    "        Blurb.append('Book not available')\n",
    "    except requests.exceptions.ConnectionError as errc:\n",
    "        time.sleep(4)\n",
    "        Blurb.append(get_blurb())\n",
    "    except requests.exceptions.Timeout as errt:\n",
    "        print (\"Timeout Error:\",booklink)\n",
    "        time.sleep(3)\n",
    "        Blurb.append(get_blurb())\n",
    "    except AttributeError:\n",
    "        ### This is for if one of the urls is made unavailable because a book is removed \n",
    "        Blurb.append('Book not available')\n",
    "    except requests.exceptions.RequestException as err:\n",
    "        print (\"OOps: Something Else\",err, booklink)\n",
    "        Blurb.append('unknown error')   \n",
    "\n",
    "print('\\nsuccesfully gotten all blurbs')"
   ]
  },
  {
   "cell_type": "code",
   "execution_count": 46,
   "metadata": {},
   "outputs": [
    {
     "data": {
      "text/plain": [
       "14843"
      ]
     },
     "execution_count": 46,
     "metadata": {},
     "output_type": "execute_result"
    }
   ],
   "source": [
    "len(Blurb)"
   ]
  },
  {
   "cell_type": "code",
   "execution_count": 17,
   "metadata": {},
   "outputs": [],
   "source": [
    "cols= ['booklink' ,\"blurb\"]\n",
    "blurb_df= pd.DataFrame({ 'Booklink': booklink, 'Blurb':Blurb }, columns=cols)"
   ]
  },
  {
   "cell_type": "code",
   "execution_count": null,
   "metadata": {},
   "outputs": [],
   "source": [
    "blurb_df= blurb_df.drop(columns= 'Unnamed: 0') ##remove unnamed column"
   ]
  },
  {
   "cell_type": "code",
   "execution_count": 59,
   "metadata": {},
   "outputs": [
    {
     "data": {
      "text/html": [
       "<div>\n",
       "<style scoped>\n",
       "    .dataframe tbody tr th:only-of-type {\n",
       "        vertical-align: middle;\n",
       "    }\n",
       "\n",
       "    .dataframe tbody tr th {\n",
       "        vertical-align: top;\n",
       "    }\n",
       "\n",
       "    .dataframe thead th {\n",
       "        text-align: right;\n",
       "    }\n",
       "</style>\n",
       "<table border=\"1\" class=\"dataframe\">\n",
       "  <thead>\n",
       "    <tr style=\"text-align: right;\">\n",
       "      <th></th>\n",
       "      <th>Booklink</th>\n",
       "      <th>Blurb</th>\n",
       "    </tr>\n",
       "  </thead>\n",
       "  <tbody>\n",
       "    <tr>\n",
       "      <th>0</th>\n",
       "      <td>https://okadabooks.com/book/about/the_long_wal...</td>\n",
       "      <td>Patience de Verteuil left her home in Trinidad...</td>\n",
       "    </tr>\n",
       "    <tr>\n",
       "      <th>1</th>\n",
       "      <td>https://okadabooks.com/book/about/bilisi_rebir...</td>\n",
       "      <td>Enter a world or two of pure fantasy and wonde...</td>\n",
       "    </tr>\n",
       "  </tbody>\n",
       "</table>\n",
       "</div>"
      ],
      "text/plain": [
       "                                            Booklink  \\\n",
       "0  https://okadabooks.com/book/about/the_long_wal...   \n",
       "1  https://okadabooks.com/book/about/bilisi_rebir...   \n",
       "\n",
       "                                               Blurb  \n",
       "0  Patience de Verteuil left her home in Trinidad...  \n",
       "1  Enter a world or two of pure fantasy and wonde...  "
      ]
     },
     "execution_count": 59,
     "metadata": {},
     "output_type": "execute_result"
    }
   ],
   "source": [
    "blurb_df.head(2)"
   ]
  },
  {
   "cell_type": "code",
   "execution_count": 60,
   "metadata": {},
   "outputs": [
    {
     "data": {
      "text/html": [
       "<div>\n",
       "<style scoped>\n",
       "    .dataframe tbody tr th:only-of-type {\n",
       "        vertical-align: middle;\n",
       "    }\n",
       "\n",
       "    .dataframe tbody tr th {\n",
       "        vertical-align: top;\n",
       "    }\n",
       "\n",
       "    .dataframe thead th {\n",
       "        text-align: right;\n",
       "    }\n",
       "</style>\n",
       "<table border=\"1\" class=\"dataframe\">\n",
       "  <thead>\n",
       "    <tr style=\"text-align: right;\">\n",
       "      <th></th>\n",
       "      <th>Title</th>\n",
       "      <th>Author</th>\n",
       "      <th>Genre</th>\n",
       "      <th>Price</th>\n",
       "      <th>Reads</th>\n",
       "      <th>Ratings</th>\n",
       "      <th>Booklink</th>\n",
       "    </tr>\n",
       "  </thead>\n",
       "  <tbody>\n",
       "    <tr>\n",
       "      <th>0</th>\n",
       "      <td>the long walk</td>\n",
       "      <td>Milton J Davis</td>\n",
       "      <td>science_fiction</td>\n",
       "      <td>360</td>\n",
       "      <td>0</td>\n",
       "      <td>0.0</td>\n",
       "      <td>https://okadabooks.com/book/about/the_long_wal...</td>\n",
       "    </tr>\n",
       "    <tr>\n",
       "      <th>1</th>\n",
       "      <td>bilisi: rebirth of the orisha #1.</td>\n",
       "      <td>Tomi Adegbite.</td>\n",
       "      <td>science_fiction</td>\n",
       "      <td>1500</td>\n",
       "      <td>0</td>\n",
       "      <td>0.0</td>\n",
       "      <td>https://okadabooks.com/book/about/bilisi_rebir...</td>\n",
       "    </tr>\n",
       "  </tbody>\n",
       "</table>\n",
       "</div>"
      ],
      "text/plain": [
       "                               Title          Author            Genre  Price  \\\n",
       "0                      the long walk  Milton J Davis  science_fiction    360   \n",
       "1  bilisi: rebirth of the orisha #1.  Tomi Adegbite.  science_fiction   1500   \n",
       "\n",
       "   Reads  Ratings                                           Booklink  \n",
       "0      0      0.0  https://okadabooks.com/book/about/the_long_wal...  \n",
       "1      0      0.0  https://okadabooks.com/book/about/bilisi_rebir...  "
      ]
     },
     "execution_count": 60,
     "metadata": {},
     "output_type": "execute_result"
    }
   ],
   "source": [
    "df_okadabooks.head(2)"
   ]
  },
  {
   "cell_type": "code",
   "execution_count": 63,
   "metadata": {},
   "outputs": [],
   "source": [
    "### Merging both dataframes into one \n",
    "okadabooks_df= pd.merge(df_okadabooks, blurb_df, how= 'inner', on= 'Booklink')"
   ]
  },
  {
   "cell_type": "code",
   "execution_count": 70,
   "metadata": {},
   "outputs": [],
   "source": [
    "### Drop all 'Book not available' in blurb as a result of attribute error when trying to get the blurb\n",
    "okadabooks_df= okadabooks_df[okadabooks_df.Blurb!=\"Book not available\"]"
   ]
  },
  {
   "cell_type": "code",
   "execution_count": 64,
   "metadata": {},
   "outputs": [],
   "source": [
    "### Help see the dataframe contents better\n",
    "pd.set_option('display.max_colwidth', -1)"
   ]
  },
  {
   "cell_type": "code",
   "execution_count": 73,
   "metadata": {},
   "outputs": [
    {
     "name": "stdout",
     "output_type": "stream",
     "text": [
      "<class 'pandas.core.frame.DataFrame'>\n",
      "Int64Index: 14803 entries, 0 to 14842\n",
      "Data columns (total 8 columns):\n",
      "Title       14803 non-null object\n",
      "Author      14803 non-null object\n",
      "Genre       14803 non-null object\n",
      "Price       14803 non-null int64\n",
      "Reads       14803 non-null int64\n",
      "Ratings     14803 non-null float64\n",
      "Booklink    14803 non-null object\n",
      "Blurb       14802 non-null object\n",
      "dtypes: float64(1), int64(2), object(5)\n",
      "memory usage: 1.0+ MB\n"
     ]
    }
   ],
   "source": [
    "okadabooks_df.info()"
   ]
  },
  {
   "cell_type": "code",
   "execution_count": 72,
   "metadata": {},
   "outputs": [
    {
     "data": {
      "text/html": [
       "<div>\n",
       "<style scoped>\n",
       "    .dataframe tbody tr th:only-of-type {\n",
       "        vertical-align: middle;\n",
       "    }\n",
       "\n",
       "    .dataframe tbody tr th {\n",
       "        vertical-align: top;\n",
       "    }\n",
       "\n",
       "    .dataframe thead th {\n",
       "        text-align: right;\n",
       "    }\n",
       "</style>\n",
       "<table border=\"1\" class=\"dataframe\">\n",
       "  <thead>\n",
       "    <tr style=\"text-align: right;\">\n",
       "      <th></th>\n",
       "      <th>Title</th>\n",
       "      <th>Author</th>\n",
       "      <th>Genre</th>\n",
       "      <th>Price</th>\n",
       "      <th>Reads</th>\n",
       "      <th>Ratings</th>\n",
       "      <th>Booklink</th>\n",
       "      <th>Blurb</th>\n",
       "    </tr>\n",
       "  </thead>\n",
       "  <tbody>\n",
       "    <tr>\n",
       "      <th>0</th>\n",
       "      <td>the long walk</td>\n",
       "      <td>Milton J Davis</td>\n",
       "      <td>science_fiction</td>\n",
       "      <td>360</td>\n",
       "      <td>0</td>\n",
       "      <td>0.0</td>\n",
       "      <td>https://okadabooks.com/book/about/the_long_walk/29737</td>\n",
       "      <td>Patience de Verteuil left her home in Trinidad with her father for what she thought would be a short journey to America. Instead she finds herself embroiled in a struggle between powerful supernatural forces, in which an object in her possession means the difference between defeat or victory. The Long Walk is a Steamfunk tale that will stay with you long after the final words are read.</td>\n",
       "    </tr>\n",
       "    <tr>\n",
       "      <th>1</th>\n",
       "      <td>bilisi: rebirth of the orisha #1.</td>\n",
       "      <td>Tomi Adegbite.</td>\n",
       "      <td>science_fiction</td>\n",
       "      <td>1500</td>\n",
       "      <td>0</td>\n",
       "      <td>0.0</td>\n",
       "      <td>https://okadabooks.com/book/about/bilisi_rebirth_of_the_orisha_1/29663</td>\n",
       "      <td>Enter a world or two of pure fantasy and wonder, as Bilisi Soneye discovers herself in more than one reality.</td>\n",
       "    </tr>\n",
       "    <tr>\n",
       "      <th>2</th>\n",
       "      <td>woman of the woods</td>\n",
       "      <td>Milton J Davis</td>\n",
       "      <td>science_fiction</td>\n",
       "      <td>1440</td>\n",
       "      <td>0</td>\n",
       "      <td>0.0</td>\n",
       "      <td>https://okadabooks.com/book/about/woman_of_the_woods/29664</td>\n",
       "      <td>Sadatina, an Adamu girl on the brink of becoming a woman has lived a peaceful life with her family in Adamusola, the land beyond the Old Men Mountains. But tragic events change her life forever, revealing a hidden past that leads her into the midst of a war between her people and those that would see them destroyed, the Mosele. Armed with a spiritual weapon and her feline 'sisters,' Sadatina becomes a Shosa, a warrior trained to fight the terrible nyokas, demon-like creatures that aid the Mosele in their war against her people. Woman of the Woods by Milton Davis is an action filled, emotionally charged adventure that expands the scope of the world of Uhuru and introduces another unforgettable character to the fabled continent's heroic legends.</td>\n",
       "    </tr>\n",
       "  </tbody>\n",
       "</table>\n",
       "</div>"
      ],
      "text/plain": [
       "                               Title          Author            Genre  Price  \\\n",
       "0  the long walk                      Milton J Davis  science_fiction  360     \n",
       "1  bilisi: rebirth of the orisha #1.  Tomi Adegbite.  science_fiction  1500    \n",
       "2  woman of the woods                 Milton J Davis  science_fiction  1440    \n",
       "\n",
       "   Reads  Ratings  \\\n",
       "0  0      0.0       \n",
       "1  0      0.0       \n",
       "2  0      0.0       \n",
       "\n",
       "                                                                 Booklink  \\\n",
       "0  https://okadabooks.com/book/about/the_long_walk/29737                    \n",
       "1  https://okadabooks.com/book/about/bilisi_rebirth_of_the_orisha_1/29663   \n",
       "2  https://okadabooks.com/book/about/woman_of_the_woods/29664               \n",
       "\n",
       "                                                                                                                                                                                                                                                                                                                                                                                                                                                                                                                                                                                                                                                                                                                                                                               Blurb  \n",
       "0  Patience de Verteuil left her home in Trinidad with her father for what she thought would be a short journey to America. Instead she finds herself embroiled in a struggle between powerful supernatural forces, in which an object in her possession means the difference between defeat or victory. The Long Walk is a Steamfunk tale that will stay with you long after the final words are read.                                                                                                                                                                                                                                                                                                                                                                               \n",
       "1  Enter a world or two of pure fantasy and wonder, as Bilisi Soneye discovers herself in more than one reality.                                                                                                                                                                                                                                                                                                                                                                                                                                                                                                                                                                                                                                                                      \n",
       "2  Sadatina, an Adamu girl on the brink of becoming a woman has lived a peaceful life with her family in Adamusola, the land beyond the Old Men Mountains. But tragic events change her life forever, revealing a hidden past that leads her into the midst of a war between her people and those that would see them destroyed, the Mosele. Armed with a spiritual weapon and her feline 'sisters,' Sadatina becomes a Shosa, a warrior trained to fight the terrible nyokas, demon-like creatures that aid the Mosele in their war against her people. Woman of the Woods by Milton Davis is an action filled, emotionally charged adventure that expands the scope of the world of Uhuru and introduces another unforgettable character to the fabled continent's heroic legends.  "
      ]
     },
     "execution_count": 72,
     "metadata": {},
     "output_type": "execute_result"
    }
   ],
   "source": [
    "okadabooks_df.head(3)"
   ]
  },
  {
   "cell_type": "markdown",
   "metadata": {},
   "source": [
    "### Exporting to a csv file"
   ]
  },
  {
   "cell_type": "code",
   "execution_count": 77,
   "metadata": {},
   "outputs": [],
   "source": [
    "### change  the directory to yours\n",
    "okadabooks_df.to_csv(r\"C:\\Users\\ru\\Desktop\\Programming\\PYTHONN!\\Okadabooks\\okadabooks.csv\")"
   ]
  }
 ],
 "metadata": {
  "kernelspec": {
   "display_name": "Python 3",
   "language": "python",
   "name": "python3"
  },
  "language_info": {
   "codemirror_mode": {
    "name": "ipython",
    "version": 3
   },
   "file_extension": ".py",
   "mimetype": "text/x-python",
   "name": "python",
   "nbconvert_exporter": "python",
   "pygments_lexer": "ipython3",
   "version": "3.7.1"
  }
 },
 "nbformat": 4,
 "nbformat_minor": 2
}
