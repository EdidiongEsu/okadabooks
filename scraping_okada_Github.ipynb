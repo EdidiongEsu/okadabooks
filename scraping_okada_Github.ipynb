{
 "cells": [
  {
   "cell_type": "markdown",
   "metadata": {},
   "source": [
    "# Webscraping OkadaBooks"
   ]
  },
  {
   "cell_type": "markdown",
   "metadata": {},
   "source": [
    "## Part 1: Getting specific data "
   ]
  },
  {
   "cell_type": "markdown",
   "metadata": {},
   "source": [
    "There are 22 categories on okadabooks.com. My aim is to extract all relevant information (Title, Author, No of reads, Rating, Price and Link to Book) from each bookcard. Before looping all through the categories, the code for getting each specific content is generated from one of the categories (In this case: fiction)."
   ]
  },
  {
   "cell_type": "markdown",
   "metadata": {},
   "source": [
    "### Reading the webpage into python"
   ]
  },
  {
   "cell_type": "code",
   "execution_count": 1,
   "metadata": {},
   "outputs": [],
   "source": [
    "import requests"
   ]
  },
  {
   "cell_type": "code",
   "execution_count": 2,
   "metadata": {},
   "outputs": [],
   "source": [
    "### Calling headers to imitate browser window\n",
    "headers = {'User-Agent': 'Mozilla/5.0 (Windows NT 6.3; Win64; x64) AppleWebKit/537.36 (KHTML, like Gecko) Chrome/54.0.2840.71 Safari/537.36'}"
   ]
  },
  {
   "cell_type": "code",
   "execution_count": null,
   "metadata": {},
   "outputs": [],
   "source": [
    "response = requests.get('https://okadabooks.com/category/fiction/5', headers=headers)"
   ]
  },
  {
   "cell_type": "code",
   "execution_count": null,
   "metadata": {},
   "outputs": [],
   "source": [
    "### Print first 500 characters of Html\n",
    "print(response.text[0:500])"
   ]
  },
  {
   "cell_type": "markdown",
   "metadata": {},
   "source": [
    "### Parsing the html through BeautifulSoup"
   ]
  },
  {
   "cell_type": "code",
   "execution_count": 4,
   "metadata": {},
   "outputs": [],
   "source": [
    "from bs4 import BeautifulSoup"
   ]
  },
  {
   "cell_type": "code",
   "execution_count": 4,
   "metadata": {},
   "outputs": [],
   "source": [
    "soup= BeautifulSoup(response.text, 'html.parser')"
   ]
  },
  {
   "cell_type": "code",
   "execution_count": 5,
   "metadata": {},
   "outputs": [],
   "source": [
    "## On 'https://okadabooks.com/category/fiction/5' , Right-click on a bookcard and click on inspect,\n",
    "## the take note the class section which highlights the whole bookcard.\n",
    "\n",
    "bookcards= soup.find_all('div', {'class':'book__card'})"
   ]
  },
  {
   "cell_type": "code",
   "execution_count": 6,
   "metadata": {},
   "outputs": [
    {
     "data": {
      "text/plain": [
       "[<div class=\"book__card\"><div class=\"book\"><div class=\"book__cover--container\"><a href=\"/book/about/gibborim_-_the_beginning/29355\"><img alt=\"GIBBORIM - THE BEGINNING.\" src=\"https://okada-assets-production.s3.eu-west-2.amazonaws.com/applications/content/images/bookImages/946a5b1abba6598021a0cb5cc24c5653.jpg\"/></a></div><div class=\"book__content\"><h3 class=\"title\"><a href=\"/book/about/gibborim_-_the_beginning/29355\"><span class=\"text-truncate\">gibborim - the beginning.</span></a></h3><div class=\"stats__container\"><div class=\"reads\"><span class=\"icon\"><i class=\"icon ion-md-eye\"></i></span><span class=\"text\">0<!-- --> <!-- -->read</span></div><div class=\"ratings\" title=\"ratings\"><span class=\"icon\"><i class=\"icon ion-md-star\"></i></span><span class=\"text\">0</span></div></div><span class=\"prize\"><strong>₦200.00</strong></span><p class=\"description\"><span width=\"0\"><span></span><span>When the rebel angels were cast down from Heaven...\n",
       " It happened in waves.\n",
       " Want to know more?\n",
       " Find out.</span><span style=\"position:fixed;visibility:hidden;top:0;left:0\"><span>...</span></span></span></p><div class=\"author__details\"><a href=\"https://okadabooks.com/user/RABBONI\"><div class=\"avatar\"><img alt=\"Author Image\" src=\"/static/assets/images/default-avatar.png\"/></div><h5 class=\"name\">by Amobi Ivan</h5></a></div></div></div><span class=\"footer\"><a href=\"/book/about/gibborim_-_the_beginning/29355\"><span class=\"\"><span>Available to read on app and web</span><i class=\"icon fa fa-dribbble\"></i></span></a><span class=\"verification-badge\"><i class=\"icon ion-ios-done-all\"></i><span>verified</span></span></span></div>,\n",
       " <div class=\"book__card\"><div class=\"book\"><div class=\"book__cover--container\"><a href=\"/book/about/magajin_wilbafos_chapter_268-269_suwainah/29292\"><img alt=\"Magajin Wilbafos [Chapter 268-269] : Suwainah \" src=\"https://okada-assets-production.s3.eu-west-2.amazonaws.com/applications/content/images/bookImages/d7b83ae11dc2399bf44c2901e21d3860.jpg\"/></a></div><div class=\"book__content\"><h3 class=\"title\"><a href=\"/book/about/magajin_wilbafos_chapter_268-269_suwainah/29292\"><span class=\"text-truncate\">magajin wilbafos [chapter 268-269] : suwainah </span></a></h3><div class=\"stats__container\"><div class=\"reads\"><span class=\"icon\"><i class=\"icon ion-md-eye\"></i></span><span class=\"text\">22<!-- --> <!-- -->reads</span></div><div class=\"ratings\" title=\"ratings\"><span class=\"icon\"><i class=\"icon ion-md-star\"></i></span><span class=\"text\">0</span></div></div><span class=\"prize\"><strong>₦20.00</strong></span><p class=\"description\"><span width=\"0\"><span></span><span>Labarin Izza! </span><span style=\"position:fixed;visibility:hidden;top:0;left:0\"><span>...</span></span></span></p><div class=\"author__details\"><a href=\"https://okadabooks.com/user/Magajinwilbafos\"><div class=\"avatar\"><img alt=\"Author Image\" src=\"https://okada-assets-production.s3.eu-west-2.amazonaws.com/applications/content/images/profilePhotos/c050c5b05c47955d3e7cff75aba5776d12f6e507.jpg\"/></div><h5 class=\"name\">by A M Ibrahim </h5></a></div></div></div><span class=\"footer\"><a href=\"/book/about/magajin_wilbafos_chapter_268-269_suwainah/29292\"><span class=\"\"><span>Available to read on app and web</span><i class=\"icon fa fa-dribbble\"></i></span></a></span></div>,\n",
       " <div class=\"book__card\"><div class=\"book\"><div class=\"book__cover--container\"><a href=\"/book/about/kanyinsola_adeyeye_my_survival_story/29231\"><img alt=\"Kanyinsola Adeyeye (my survival story)\" src=\"https://okada-assets-production.s3.eu-west-2.amazonaws.com/applications/content/images/bookImages/bdecd1725185bc3bc7ff06d7afae67a1.jpg\"/></a></div><div class=\"book__content\"><h3 class=\"title\"><a href=\"/book/about/kanyinsola_adeyeye_my_survival_story/29231\"><span class=\"text-truncate\">kanyinsola adeyeye (my survival story)</span></a><span class=\"info\">18+</span></h3><div class=\"stats__container\"><div class=\"reads\"><span class=\"icon\"><i class=\"icon ion-md-eye\"></i></span><span class=\"text\">2<!-- --> <!-- -->reads</span></div><div class=\"ratings\" title=\"ratings\"><span class=\"icon\"><i class=\"icon ion-md-star\"></i></span><span class=\"text\">5</span></div></div><span class=\"prize\"><strong>₦100.00</strong></span><p class=\"description\"><span width=\"0\"><span></span><span>Kanyinsola Adeyeye was kidnapped from her village by her father's enemies and she was brought into a world she had no idea existed. \n",
       " \n",
       " Unknown to her, her father was a ruthless Mafia leader who had stepped on many people's toe. \n",
       " She's wanted by four deadly Mafias for a crime her dead father committed with only an Aunt to protect her. \n",
       " \n",
       " This is her story of survival.</span><span style=\"position:fixed;visibility:hidden;top:0;left:0\"><span>...</span></span></span></p><div class=\"author__details\"><a href=\"https://okadabooks.com/user/ClassiqueArewa\"><div class=\"avatar\"><img alt=\"Author Image\" src=\"/static/assets/images/default-avatar.png\"/></div><h5 class=\"name\">by Badmus Waliyyat Olajumokeb</h5></a></div></div></div><span class=\"footer\"><a href=\"/book/about/kanyinsola_adeyeye_my_survival_story/29231\"><span class=\"\"><span>Available to read on app and web</span><i class=\"icon fa fa-dribbble\"></i></span></a></span></div>,\n",
       " <div class=\"book__card\"><div class=\"book\"><div class=\"book__cover--container\"><a href=\"/book/about/halves/29200\"><img alt=\"Halves \" src=\"https://okada-assets-production.s3.eu-west-2.amazonaws.com/applications/content/images/bookImages/e4298839cd587ad926cb47b6a1ba7d4d.jpg\"/></a></div><div class=\"book__content\"><h3 class=\"title\"><a href=\"/book/about/halves/29200\"><span class=\"text-truncate\">halves </span></a></h3><div class=\"stats__container\"><div class=\"reads\"><span class=\"icon\"><i class=\"icon ion-md-eye\"></i></span><span class=\"text\">170<!-- --> <!-- -->reads</span></div><div class=\"ratings\" title=\"ratings\"><span class=\"icon\"><i class=\"icon ion-md-star\"></i></span><span class=\"text\">4</span></div></div><span class=\"prize\"><strong>Free</strong></span><p class=\"description\"><span width=\"0\"><span></span><span>Two detectives struggle to solve a murder mystery and stop a serial killer from wreaking havoc on the entire city of Seattle.\n",
       " </span><span style=\"position:fixed;visibility:hidden;top:0;left:0\"><span>...</span></span></span></p><div class=\"author__details\"><a href=\"https://okadabooks.com/user/Dexteralex301\"><div class=\"avatar\"><img alt=\"Author Image\" src=\"https://okada-assets-production.s3.eu-west-2.amazonaws.com/applications/content/images/profilePhotos/fc44dd99665110d31e85a1ff35b2500a.jpg\"/></div><h5 class=\"name\">by Dexter Alex </h5></a></div></div></div><span class=\"footer\"><a href=\"/book/about/halves/29200\"><span class=\"\"><span>Available to read on app and web</span><i class=\"icon fa fa-dribbble\"></i></span></a><span class=\"verification-badge\"><i class=\"icon ion-ios-done-all\"></i><span>verified</span></span></span></div>,\n",
       " <div class=\"book__card\"><div class=\"book\"><div class=\"book__cover--container\"><a href=\"/book/about/the_visitor/29175\"><img alt=\"THE VISITOR\" src=\"https://okada-assets-production.s3.eu-west-2.amazonaws.com/applications/content/images/bookImages/58deb7291b7647a37d571035bb013ea4.png\"/></a></div><div class=\"book__content\"><h3 class=\"title\"><a href=\"/book/about/the_visitor/29175\"><span class=\"text-truncate\">the visitor</span></a></h3><div class=\"stats__container\"><div class=\"reads\"><span class=\"icon\"><i class=\"icon ion-md-eye\"></i></span><span class=\"text\">805<!-- --> <!-- -->reads</span></div><div class=\"ratings\" title=\"ratings\"><span class=\"icon\"><i class=\"icon ion-md-star\"></i></span><span class=\"text\">5</span></div></div><span class=\"prize\"><strong>Free</strong></span><p class=\"description\"><span width=\"0\"><span></span><span>Pastor Joshua and his wife seem to be keeping a secret from everyone. To the outside world they are perfect but only the two of them know what they did that day or are they really the only ones? \n",
       " What happens when they receive an unlikely visitor? \n",
       " Does the visitor know about them? \n",
       " What is the visitor's agenda? \n",
       " Find out in this short story</span><span style=\"position:fixed;visibility:hidden;top:0;left:0\"><span>...</span></span></span></p><div class=\"author__details\"><a href=\"https://okadabooks.com/user/Xquisiteopy\"><div class=\"avatar\"><img alt=\"Author Image\" src=\"/static/assets/images/default-avatar.png\"/></div><h5 class=\"name\">by OMOSA OPEMIPO</h5></a></div></div></div><span class=\"footer\"><a href=\"/book/about/the_visitor/29175\"><span class=\"\"><span>Available to read on app and web</span><i class=\"icon fa fa-dribbble\"></i></span></a><span class=\"verification-badge\"><i class=\"icon ion-ios-done-all\"></i><span>verified</span></span></span></div>,\n",
       " <div class=\"book__card\"><div class=\"book\"><div class=\"book__cover--container\"><a href=\"/book/about/magajin_wilbafos_chapter_265-267_an-aiken_mutuwa/29161\"><img alt=\"Magajin Wilbafos [Chapter 265-267] : Ɗan-aiken Mutuwa\" src=\"https://okada-assets-production.s3.eu-west-2.amazonaws.com/applications/content/images/bookImages/f02909e6b59f4f1da8a2527c2d9d66db.jpg\"/></a></div><div class=\"book__content\"><h3 class=\"title\"><a href=\"/book/about/magajin_wilbafos_chapter_265-267_an-aiken_mutuwa/29161\"><span class=\"text-truncate\">magajin wilbafos [chapter 265-267] : ɗan-aiken mutuwa</span></a></h3><div class=\"stats__container\"><div class=\"reads\"><span class=\"icon\"><i class=\"icon ion-md-eye\"></i></span><span class=\"text\">23<!-- --> <!-- -->reads</span></div><div class=\"ratings\" title=\"ratings\"><span class=\"icon\"><i class=\"icon ion-md-star\"></i></span><span class=\"text\">4</span></div></div><span class=\"prize\"><strong>₦30.00</strong></span><p class=\"description\"><span width=\"0\"><span></span><span>Labarin Izza! </span><span style=\"position:fixed;visibility:hidden;top:0;left:0\"><span>...</span></span></span></p><div class=\"author__details\"><a href=\"https://okadabooks.com/user/Magajinwilbafos\"><div class=\"avatar\"><img alt=\"Author Image\" src=\"https://okada-assets-production.s3.eu-west-2.amazonaws.com/applications/content/images/profilePhotos/c050c5b05c47955d3e7cff75aba5776d12f6e507.jpg\"/></div><h5 class=\"name\">by A M Ibrahim </h5></a></div></div></div><span class=\"footer\"><a href=\"/book/about/magajin_wilbafos_chapter_265-267_an-aiken_mutuwa/29161\"><span class=\"\"><span>Available to read on app and web</span><i class=\"icon fa fa-dribbble\"></i></span></a><span class=\"verification-badge\"><i class=\"icon ion-ios-done-all\"></i><span>verified</span></span></span></div>,\n",
       " <div class=\"book__card\"><div class=\"book\"><div class=\"book__cover--container\"><a href=\"/book/about/the_spy/29131\"><img alt=\"The Spy\" src=\"https://okada-assets-production.s3.eu-west-2.amazonaws.com/applications/content/images/bookImages/760d68dc8a098ae31a40d66ee686d908.jpeg\"/></a></div><div class=\"book__content\"><h3 class=\"title\"><a href=\"/book/about/the_spy/29131\"><span class=\"text-truncate\">the spy</span></a></h3><div class=\"stats__container\"><div class=\"reads\"><span class=\"icon\"><i class=\"icon ion-md-eye\"></i></span><span class=\"text\">2<!-- --> <!-- -->reads</span></div><div class=\"ratings\" title=\"ratings\"><span class=\"icon\"><i class=\"icon ion-md-star\"></i></span><span class=\"text\">5</span></div></div><span class=\"prize\"><strong>₦150.00</strong></span><p class=\"description\"><span width=\"0\"><span></span><span>Delilah is a medical doctor with 7 years experience in professional medicine. One day, without warning, her life became an abyss of misdirections and bewilderment.\n",
       " \n",
       " Spy, the strange character that came into her life made things bitter. She tries to avoid this mysterious person but fails. Spy became the lucifer in Dr. Delilah's life.\n",
       " \n",
       " Is Spy Mr. Wilson's ghost — a Man that died from an unfortunate incident in the process of a surgery conducted by Dr. Delilah? \n",
       " Delilah never believed in ghosts, but could this be the horrific superstition she's been avoiding? Will she find a way to escape these strange circumstances?\n",
       " \n",
       " Find out within the pages of the story, and don't forget to drop your incentive comments.</span><span style=\"position:fixed;visibility:hidden;top:0;left:0\"><span>...</span></span></span></p><div class=\"author__details\"><a href=\"https://okadabooks.com/user/Inspirational\"><div class=\"avatar\"><img alt=\"Author Image\" src=\"/static/assets/images/default-avatar.png\"/></div><h5 class=\"name\">by Mohammad Haruna</h5></a></div></div></div><span class=\"footer\"><a href=\"/book/about/the_spy/29131\"><span class=\"\"><span>Available to read on app and web</span><i class=\"icon fa fa-dribbble\"></i></span></a></span></div>,\n",
       " <div class=\"book__card\"><div class=\"book\"><div class=\"book__cover--container\"><a href=\"/book/about/inestimable_ramifications/29135\"><img alt=\"INESTIMABLE RAMIFICATIONS\" src=\"https://okada-assets-production.s3.eu-west-2.amazonaws.com/applications/content/images/bookImages/87576b05505bf02cc7d2cc8520b46e77.jpg\"/></a></div><div class=\"book__content\"><h3 class=\"title\"><a href=\"/book/about/inestimable_ramifications/29135\"><span class=\"text-truncate\">inestimable ramifications</span></a></h3><div class=\"stats__container\"><div class=\"reads\"><span class=\"icon\"><i class=\"icon ion-md-eye\"></i></span><span class=\"text\">2<!-- --> <!-- -->reads</span></div><div class=\"ratings\" title=\"ratings\"><span class=\"icon\"><i class=\"icon ion-md-star\"></i></span><span class=\"text\">0</span></div></div><span class=\"prize\"><strong>₦300.00</strong></span><p class=\"description\"><span width=\"0\"><span></span><span>Tony Justice, a West African, private detective on a trip to Europe is dragged into a high-profile murder in the heart of Oslo. Jon Iversen, the charismatic leader of Bølge, the most successful musical band in the history of Norway is found in a pool of blood in his home. In a sizzling collaboration with detective Espen from the local police, Tony Justice scrap up clues to put a name and face to the crime. A crime that reeks highly of a syndicate involvement. As the inquest unfolds, Tony Justice unearths dark secrets that will shatter the very core of the musical band and leave their future in tatters. Racketeering, treachery and blackmail in another gripping Tony Justice special. </span><span style=\"position:fixed;visibility:hidden;top:0;left:0\"><span>...</span></span></span></p><div class=\"author__details\"><a href=\"https://okadabooks.com/user/Mackells\"><div class=\"avatar\"><img alt=\"Author Image\" src=\"https://okada-assets-production.s3.eu-west-2.amazonaws.com/applications/content/images/profilePhotos/8875c10ce5b5758501ccbb257c9722fb.jpg\"/></div><h5 class=\"name\">by MAC KELLY OBISON</h5></a></div></div></div><span class=\"footer\"><a href=\"/book/about/inestimable_ramifications/29135\"><span class=\"\"><span>Available to read on app and web</span><i class=\"icon fa fa-dribbble\"></i></span></a></span></div>,\n",
       " <div class=\"book__card\"><div class=\"book\"><div class=\"book__cover--container\"><a href=\"/book/about/magajin_wilbafos_chapter_262-264_y_bu/29008\"><img alt=\"Magajin Wilbafos [Chapter 262-264] : Áyúbu\" src=\"https://okada-assets-production.s3.eu-west-2.amazonaws.com/applications/content/images/bookImages/d2ef21c110e3350623b5ec7d27876247.jpg\"/></a></div><div class=\"book__content\"><h3 class=\"title\"><a href=\"/book/about/magajin_wilbafos_chapter_262-264_y_bu/29008\"><span class=\"text-truncate\">magajin wilbafos [chapter 262-264] : áyúbu</span></a></h3><div class=\"stats__container\"><div class=\"reads\"><span class=\"icon\"><i class=\"icon ion-md-eye\"></i></span><span class=\"text\">27<!-- --> <!-- -->reads</span></div><div class=\"ratings\" title=\"ratings\"><span class=\"icon\"><i class=\"icon ion-md-star\"></i></span><span class=\"text\">0</span></div></div><span class=\"prize\"><strong>₦30.00</strong></span><p class=\"description\"><span width=\"0\"><span></span><span>Labarin Izza! </span><span style=\"position:fixed;visibility:hidden;top:0;left:0\"><span>...</span></span></span></p><div class=\"author__details\"><a href=\"https://okadabooks.com/user/Magajinwilbafos\"><div class=\"avatar\"><img alt=\"Author Image\" src=\"https://okada-assets-production.s3.eu-west-2.amazonaws.com/applications/content/images/profilePhotos/c050c5b05c47955d3e7cff75aba5776d12f6e507.jpg\"/></div><h5 class=\"name\">by A M Ibrahim </h5></a></div></div></div><span class=\"footer\"><a href=\"/book/about/magajin_wilbafos_chapter_262-264_y_bu/29008\"><span class=\"\"><span>Available to read on app and web</span><i class=\"icon fa fa-dribbble\"></i></span></a><span class=\"verification-badge\"><i class=\"icon ion-ios-done-all\"></i><span>verified</span></span></span></div>,\n",
       " <div class=\"book__card\"><div class=\"book\"><div class=\"book__cover--container\"><a href=\"/book/about/magajin_wilbafos_chapter_259-261_k_narbig/28939\"><img alt=\"Magajin Wilbafos [Chapter 259-261] : K'Narbig\" src=\"https://okada-assets-production.s3.eu-west-2.amazonaws.com/applications/content/images/bookImages/6e857fa4a435efe3790d1c1a652e41fb.jpg\"/></a></div><div class=\"book__content\"><h3 class=\"title\"><a href=\"/book/about/magajin_wilbafos_chapter_259-261_k_narbig/28939\"><span class=\"text-truncate\">magajin wilbafos [chapter 259-261] : k'narbig</span></a></h3><div class=\"stats__container\"><div class=\"reads\"><span class=\"icon\"><i class=\"icon ion-md-eye\"></i></span><span class=\"text\">27<!-- --> <!-- -->reads</span></div><div class=\"ratings\" title=\"ratings\"><span class=\"icon\"><i class=\"icon ion-md-star\"></i></span><span class=\"text\">0</span></div></div><span class=\"prize\"><strong>₦30.00</strong></span><p class=\"description\"><span width=\"0\"><span></span><span>Labarin Izza! </span><span style=\"position:fixed;visibility:hidden;top:0;left:0\"><span>...</span></span></span></p><div class=\"author__details\"><a href=\"https://okadabooks.com/user/Magajinwilbafos\"><div class=\"avatar\"><img alt=\"Author Image\" src=\"https://okada-assets-production.s3.eu-west-2.amazonaws.com/applications/content/images/profilePhotos/c050c5b05c47955d3e7cff75aba5776d12f6e507.jpg\"/></div><h5 class=\"name\">by A M Ibrahim </h5></a></div></div></div><span class=\"footer\"><a href=\"/book/about/magajin_wilbafos_chapter_259-261_k_narbig/28939\"><span class=\"\"><span>Available to read on app and web</span><i class=\"icon fa fa-dribbble\"></i></span></a><span class=\"verification-badge\"><i class=\"icon ion-ios-done-all\"></i><span>verified</span></span></span></div>,\n",
       " <div class=\"book__card\"><div class=\"book\"><div class=\"book__cover--container\"><a href=\"/book/about/a_paranoid_s_secret_sins/28825\"><img alt=\"A PARANOID'S SECRET SINS\" src=\"https://okada-assets-production.s3.eu-west-2.amazonaws.com/applications/content/images/bookImages/5248eb131b67f6692583f338dbf263c2.jpg\"/></a></div><div class=\"book__content\"><h3 class=\"title\"><a href=\"/book/about/a_paranoid_s_secret_sins/28825\"><span class=\"text-truncate\">a paranoid's secret sins</span></a></h3><div class=\"stats__container\"><div class=\"reads\"><span class=\"icon\"><i class=\"icon ion-md-eye\"></i></span><span class=\"text\">7<!-- --> <!-- -->reads</span></div><div class=\"ratings\" title=\"ratings\"><span class=\"icon\"><i class=\"icon ion-md-star\"></i></span><span class=\"text\">3.67</span></div></div><span class=\"prize\"><strong>₦250.00</strong></span><p class=\"description\"><span width=\"0\"><span></span><span>True Story, fictitious names, a lot of scandal!\n",
       " \n",
       " \n",
       " Take a peek into the life of Victory, a principled young woman who stumbles on love. She is caught between upholding her old beliefs and testing this new rough waters. \n",
       " \n",
       " In this short story, the author recounts her experiences growing up in Ilorin City, Nigeria and sprinkles it up with some fiction.</span><span style=\"position:fixed;visibility:hidden;top:0;left:0\"><span>...</span></span></span></p><div class=\"author__details\"><a href=\"https://okadabooks.com/user/Vason1\"><div class=\"avatar\"><img alt=\"Author Image\" src=\"https://okada-assets-production.s3.eu-west-2.amazonaws.com/applications/content/images/profilePhotos/c6212cba7195f88b65d4453a31d12f76.JPG\"/></div><h5 class=\"name\">by Victory Peniel</h5></a></div></div></div><span class=\"footer\"><a href=\"/book/about/a_paranoid_s_secret_sins/28825\"><span class=\"\"><span>Available to read on app and web</span><i class=\"icon fa fa-dribbble\"></i></span></a></span></div>,\n",
       " <div class=\"book__card\"><div class=\"book\"><div class=\"book__cover--container\"><a href=\"/book/about/venom/28787\"><img alt=\"VENOM\" src=\"https://okada-assets-production.s3.eu-west-2.amazonaws.com/applications/content/images/bookImages/58485f755132a4536aa292e0c9926bfb.jpg\"/></a></div><div class=\"book__content\"><h3 class=\"title\"><a href=\"/book/about/venom/28787\"><span class=\"text-truncate\">venom</span></a></h3><div class=\"stats__container\"><div class=\"reads\"><span class=\"icon\"><i class=\"icon ion-md-eye\"></i></span><span class=\"text\">130<!-- --> <!-- -->reads</span></div><div class=\"ratings\" title=\"ratings\"><span class=\"icon\"><i class=\"icon ion-md-star\"></i></span><span class=\"text\">4</span></div></div><span class=\"prize\"><strong>Free</strong></span><p class=\"description\"><span width=\"0\"><span></span><span>A man is the prime suspect in his best friend's murder case and investigators reveal a venomous truth about his past.\n",
       " \n",
       " ***\n",
       " The lawyers say he did it, but even they are not sure. Amir Ahmad seeks redemption and clarity as the world is disgusted by how a charming man can be so dark.\n",
       " \n",
       " Follow the twists, the painful truth and the real culprit, behind Jace Jordan's death.</span><span style=\"position:fixed;visibility:hidden;top:0;left:0\"><span>...</span></span></span></p><div class=\"author__details\"><a href=\"https://okadabooks.com/user/IbraTSM\"><div class=\"avatar\"><img alt=\"Author Image\" src=\"/static/assets/images/default-avatar.png\"/></div><h5 class=\"name\">by Ibrahim Mainasara </h5></a></div></div></div><span class=\"footer\"><a href=\"/book/about/venom/28787\"><span class=\"\"><span>Available to read on app and web</span><i class=\"icon fa fa-dribbble\"></i></span></a></span></div>]"
      ]
     },
     "execution_count": 6,
     "metadata": {},
     "output_type": "execute_result"
    }
   ],
   "source": [
    "bookcards"
   ]
  },
  {
   "cell_type": "code",
   "execution_count": 7,
   "metadata": {},
   "outputs": [
    {
     "data": {
      "text/plain": [
       "12"
      ]
     },
     "execution_count": 7,
     "metadata": {},
     "output_type": "execute_result"
    }
   ],
   "source": [
    "len(bookcards)"
   ]
  },
  {
   "cell_type": "code",
   "execution_count": 8,
   "metadata": {},
   "outputs": [],
   "source": [
    "### Concentrating on the first bookcard to scrap specific data.\n",
    "bookcard= bookcards[0]"
   ]
  },
  {
   "cell_type": "code",
   "execution_count": 28,
   "metadata": {},
   "outputs": [
    {
     "name": "stdout",
     "output_type": "stream",
     "text": [
      "<div class=\"book__card\">\n",
      " <div class=\"book\">\n",
      "  <div class=\"book__cover--container\">\n",
      "   <a href=\"/book/about/kanyinsola_adeyeye_my_survival_story/29231\">\n",
      "    <img alt=\"Kanyinsola Adeyeye (my survival story)\" src=\"https://okada-assets-production.s3.eu-west-2.amazonaws.com/applications/content/images/bookImages/bdecd1725185bc3bc7ff06d7afae67a1.jpg\"/>\n",
      "   </a>\n",
      "  </div>\n",
      "  <div class=\"book__content\">\n",
      "   <h3 class=\"title\">\n",
      "    <a href=\"/book/about/kanyinsola_adeyeye_my_survival_story/29231\">\n",
      "     <span class=\"text-truncate\">\n",
      "      kanyinsola adeyeye (my survival story)\n",
      "     </span>\n",
      "    </a>\n",
      "    <span class=\"info\">\n",
      "     18+\n",
      "    </span>\n",
      "   </h3>\n",
      "   <div class=\"stats__container\">\n",
      "    <div class=\"reads\">\n",
      "     <span class=\"icon\">\n",
      "      <i class=\"icon ion-md-eye\">\n",
      "      </i>\n",
      "     </span>\n",
      "     <span class=\"text\">\n",
      "      2\n",
      "      <!-- -->\n",
      "      <!-- -->\n",
      "      reads\n",
      "     </span>\n",
      "    </div>\n",
      "    <div class=\"ratings\" title=\"ratings\">\n",
      "     <span class=\"icon\">\n",
      "      <i class=\"icon ion-md-star\">\n",
      "      </i>\n",
      "     </span>\n",
      "     <span class=\"text\">\n",
      "      5\n",
      "     </span>\n",
      "    </div>\n",
      "   </div>\n",
      "   <span class=\"prize\">\n",
      "    <strong>\n",
      "     ₦100.00\n",
      "    </strong>\n",
      "   </span>\n",
      "   <p class=\"description\">\n",
      "    <span width=\"0\">\n",
      "     <span>\n",
      "     </span>\n",
      "     <span>\n",
      "      Kanyinsola Adeyeye was kidnapped from her village by her father's enemies and she was brought into a world she had no idea existed. \r\n",
      "\r\n",
      "Unknown to her, her father was a ruthless Mafia leader who had stepped on many people's toe. \r\n",
      "She's wanted by four deadly Mafias for a crime her dead father committed with only an Aunt to protect her. \r\n",
      "\r\n",
      "This is her story of survival.\n",
      "     </span>\n",
      "     <span style=\"position:fixed;visibility:hidden;top:0;left:0\">\n",
      "      <span>\n",
      "       ...\n",
      "      </span>\n",
      "     </span>\n",
      "    </span>\n",
      "   </p>\n",
      "   <div class=\"author__details\">\n",
      "    <a href=\"https://okadabooks.com/user/ClassiqueArewa\">\n",
      "     <div class=\"avatar\">\n",
      "      <img alt=\"Author Image\" src=\"/static/assets/images/default-avatar.png\"/>\n",
      "     </div>\n",
      "     <h5 class=\"name\">\n",
      "      by Badmus Waliyyat Olajumokeb\n",
      "     </h5>\n",
      "    </a>\n",
      "   </div>\n",
      "  </div>\n",
      " </div>\n",
      " <span class=\"footer\">\n",
      "  <a href=\"/book/about/kanyinsola_adeyeye_my_survival_story/29231\">\n",
      "   <span class=\"\">\n",
      "    <span>\n",
      "     Available to read on app and web\n",
      "    </span>\n",
      "    <i class=\"icon fa fa-dribbble\">\n",
      "    </i>\n",
      "   </span>\n",
      "  </a>\n",
      " </span>\n",
      "</div>\n"
     ]
    }
   ],
   "source": [
    "### This helps to arrange the html contect in a structured manner so that the different tags can \n",
    "### quickly be gotten.\n",
    "\n",
    "print(bookcard.prettify())"
   ]
  },
  {
   "cell_type": "code",
   "execution_count": 9,
   "metadata": {},
   "outputs": [],
   "source": [
    "### Title\n",
    "title = bookcard.find('span', {'class':\"text-truncate\"})"
   ]
  },
  {
   "cell_type": "code",
   "execution_count": 10,
   "metadata": {},
   "outputs": [
    {
     "data": {
      "text/plain": [
       "'gibborim - the beginning.'"
      ]
     },
     "execution_count": 10,
     "metadata": {},
     "output_type": "execute_result"
    }
   ],
   "source": [
    "title.text"
   ]
  },
  {
   "cell_type": "code",
   "execution_count": 11,
   "metadata": {},
   "outputs": [],
   "source": [
    "###Price\n",
    "price= bookcard.find(\"strong\")"
   ]
  },
  {
   "cell_type": "code",
   "execution_count": 12,
   "metadata": {},
   "outputs": [
    {
     "data": {
      "text/plain": [
       "'₦200.00'"
      ]
     },
     "execution_count": 12,
     "metadata": {},
     "output_type": "execute_result"
    }
   ],
   "source": [
    "price.text"
   ]
  },
  {
   "cell_type": "code",
   "execution_count": 14,
   "metadata": {},
   "outputs": [
    {
     "data": {
      "text/plain": [
       "'200'"
      ]
     },
     "execution_count": 14,
     "metadata": {},
     "output_type": "execute_result"
    }
   ],
   "source": [
    "price.text[1:-3]"
   ]
  },
  {
   "cell_type": "code",
   "execution_count": 56,
   "metadata": {},
   "outputs": [
    {
     "data": {
      "text/plain": [
       "'200'"
      ]
     },
     "execution_count": 56,
     "metadata": {},
     "output_type": "execute_result"
    }
   ],
   "source": [
    "bookcard.find('strong').text[1:-3]"
   ]
  },
  {
   "cell_type": "code",
   "execution_count": 15,
   "metadata": {},
   "outputs": [],
   "source": [
    "### Author's name\n",
    "\n",
    "Author= bookcard.find('h5', {'class':\"name\"})"
   ]
  },
  {
   "cell_type": "code",
   "execution_count": 16,
   "metadata": {},
   "outputs": [
    {
     "data": {
      "text/plain": [
       "'by Amobi Ivan'"
      ]
     },
     "execution_count": 16,
     "metadata": {},
     "output_type": "execute_result"
    }
   ],
   "source": [
    "Author.text"
   ]
  },
  {
   "cell_type": "code",
   "execution_count": 17,
   "metadata": {},
   "outputs": [
    {
     "data": {
      "text/plain": [
       "'Amobi Ivan'"
      ]
     },
     "execution_count": 17,
     "metadata": {},
     "output_type": "execute_result"
    }
   ],
   "source": [
    "Author.text[3:]"
   ]
  },
  {
   "cell_type": "code",
   "execution_count": 18,
   "metadata": {},
   "outputs": [],
   "source": [
    "### No of reads\n",
    "read= bookcard.find('div', {'class':\"reads\"}).text[:-5]"
   ]
  },
  {
   "cell_type": "code",
   "execution_count": 19,
   "metadata": {},
   "outputs": [
    {
     "data": {
      "text/plain": [
       "'0 read'"
      ]
     },
     "execution_count": 19,
     "metadata": {},
     "output_type": "execute_result"
    }
   ],
   "source": [
    "read.text"
   ]
  },
  {
   "cell_type": "code",
   "execution_count": 21,
   "metadata": {},
   "outputs": [
    {
     "data": {
      "text/plain": [
       "'0'"
      ]
     },
     "execution_count": 21,
     "metadata": {},
     "output_type": "execute_result"
    }
   ],
   "source": [
    "read.text[:-5]"
   ]
  },
  {
   "cell_type": "code",
   "execution_count": 22,
   "metadata": {},
   "outputs": [],
   "source": [
    "### Rating's score\n",
    "rating = bookcard.find('div', {'title':\"ratings\"})"
   ]
  },
  {
   "cell_type": "code",
   "execution_count": 23,
   "metadata": {},
   "outputs": [
    {
     "data": {
      "text/plain": [
       "'0'"
      ]
     },
     "execution_count": 23,
     "metadata": {},
     "output_type": "execute_result"
    }
   ],
   "source": [
    "rating.text"
   ]
  },
  {
   "cell_type": "code",
   "execution_count": 27,
   "metadata": {},
   "outputs": [],
   "source": [
    "### Blurb/ Book description\n",
    "blurb = bookcard.find('p', {'class':\"description\"})"
   ]
  },
  {
   "cell_type": "code",
   "execution_count": 28,
   "metadata": {},
   "outputs": [
    {
     "data": {
      "text/plain": [
       "'When the rebel angels were cast down from Heaven...\\r\\nIt happened in waves.\\r\\nWant to know more?\\r\\nFind out....'"
      ]
     },
     "execution_count": 28,
     "metadata": {},
     "output_type": "execute_result"
    }
   ],
   "source": [
    "blurb.text"
   ]
  },
  {
   "cell_type": "code",
   "execution_count": 29,
   "metadata": {},
   "outputs": [
    {
     "data": {
      "text/plain": [
       "[<a href=\"/book/about/gibborim_-_the_beginning/29355\"><img alt=\"GIBBORIM - THE BEGINNING.\" src=\"https://okada-assets-production.s3.eu-west-2.amazonaws.com/applications/content/images/bookImages/946a5b1abba6598021a0cb5cc24c5653.jpg\"/></a>,\n",
       " <a href=\"/book/about/gibborim_-_the_beginning/29355\"><span class=\"text-truncate\">gibborim - the beginning.</span></a>,\n",
       " <a href=\"https://okadabooks.com/user/RABBONI\"><div class=\"avatar\"><img alt=\"Author Image\" src=\"/static/assets/images/default-avatar.png\"/></div><h5 class=\"name\">by Amobi Ivan</h5></a>,\n",
       " <a href=\"/book/about/gibborim_-_the_beginning/29355\"><span class=\"\"><span>Available to read on app and web</span><i class=\"icon fa fa-dribbble\"></i></span></a>]"
      ]
     },
     "execution_count": 29,
     "metadata": {},
     "output_type": "execute_result"
    }
   ],
   "source": [
    "### The link to the book is embedded in the 'a' tag while book cover is in the 'img' tage\n",
    "bookcard.find_all('a')"
   ]
  },
  {
   "cell_type": "code",
   "execution_count": 32,
   "metadata": {},
   "outputs": [],
   "source": [
    "###About the book(Link to a summary of the book)\n",
    "bookcard.find('a')['href']"
   ]
  },
  {
   "cell_type": "code",
   "execution_count": null,
   "metadata": {},
   "outputs": [],
   "source": [
    "base = 'https://okadabooks.com'"
   ]
  },
  {
   "cell_type": "code",
   "execution_count": 33,
   "metadata": {},
   "outputs": [
    {
     "data": {
      "text/plain": [
       "'https://okadabooks.com/book/about/gibborim_-_the_beginning/29355'"
      ]
     },
     "execution_count": 33,
     "metadata": {},
     "output_type": "execute_result"
    }
   ],
   "source": [
    "book_link= base + bookcard.find('a')['href'] "
   ]
  },
  {
   "cell_type": "code",
   "execution_count": 46,
   "metadata": {},
   "outputs": [
    {
     "data": {
      "text/plain": [
       "'https://okada-assets-production.s3.eu-west-2.amazonaws.com/applications/content/images/bookImages/946a5b1abba6598021a0cb5cc24c5653.jpg'"
      ]
     },
     "execution_count": 46,
     "metadata": {},
     "output_type": "execute_result"
    }
   ],
   "source": [
    "### Bookcover image\n",
    "bookcard.find('img')['src']"
   ]
  },
  {
   "cell_type": "code",
   "execution_count": null,
   "metadata": {},
   "outputs": [],
   "source": [
    "book_image= bookcard.find('img')['src']"
   ]
  },
  {
   "cell_type": "markdown",
   "metadata": {},
   "source": [
    "---"
   ]
  },
  {
   "cell_type": "markdown",
   "metadata": {},
   "source": [
    "## Part 2 : Automation"
   ]
  },
  {
   "cell_type": "markdown",
   "metadata": {},
   "source": [
    "In each category, there is a load more button which when clicked on, reveals more bookcards. I am going to use selenium to click on the button till it reaches the end of the page and it is no longer available. This is when dynamic scraping begins."
   ]
  },
  {
   "cell_type": "code",
   "execution_count": null,
   "metadata": {},
   "outputs": [],
   "source": [
    "from selenium import webdriver"
   ]
  },
  {
   "cell_type": "code",
   "execution_count": null,
   "metadata": {},
   "outputs": [],
   "source": [
    "options = webdriver.ChromeOptions()\n",
    "options.add_argument('--ignore-certificate-errors')\n",
    "options.add_argument('--incognito') \n",
    "\n",
    "## In the final forloop, a headless argument will be used in order not to open the browser when \n",
    "## automation is going on. Incognito option means an incognito winow will be used."
   ]
  },
  {
   "cell_type": "code",
   "execution_count": null,
   "metadata": {},
   "outputs": [],
   "source": [
    "### The executable path is where I my chrome driver is located in my browser.\n",
    "driver=webdriver.Chrome(executable_path= 'C:/Users/ru/Downloads/Programs/chromedriver', chrome_options=options)"
   ]
  },
  {
   "cell_type": "code",
   "execution_count": null,
   "metadata": {},
   "outputs": [],
   "source": [
    "driver.get('https://okadabooks.com/category/fiction/5')"
   ]
  },
  {
   "cell_type": "code",
   "execution_count": null,
   "metadata": {},
   "outputs": [],
   "source": [
    "### Get the css path by right clicking on the html tag gotten from inspecting the load more button.\n",
    "### This clicks it once. \n",
    "\n",
    "okada= driver.find_element_by_css_selector('#_app > div.main-wrapper > main > div > main > div > div.col-lg-9 > div > div.container.d-flex.justify-content-center.mb-5 > button')\n",
    "okada.click()"
   ]
  },
  {
   "cell_type": "code",
   "execution_count": null,
   "metadata": {},
   "outputs": [],
   "source": [
    "### This is to continue pressing the load more button till it is no longer there. It will be commented\n",
    "### here. Check final forloop for usage.\n",
    "\n",
    "import time \n",
    "\n",
    "# LoadMore = True\n",
    "# while LoadMore:\n",
    "#    time.sleep(1)\n",
    "#    try:\n",
    "#        if okada:\n",
    "#            okada.click()\n",
    "#    except:\n",
    "#        LoadMore = False"
   ]
  },
  {
   "cell_type": "markdown",
   "metadata": {},
   "source": [
    "## Part 3: Getting all the urls for each category"
   ]
  },
  {
   "cell_type": "markdown",
   "metadata": {},
   "source": [
    "Instead of typing all the urls for each category, it can easily gottten from the html tag. On okadbooks.com/store, right-click and inspect the category wrapper (where you click, it redirects you to the page of the category.)\n"
   ]
  },
  {
   "cell_type": "code",
   "execution_count": null,
   "metadata": {},
   "outputs": [],
   "source": [
    "r = requests.get(\"https://okadabooks.com/store\", headers=headers)\n",
    "soup= BeautifulSoup(r.text, 'html.parser')"
   ]
  },
  {
   "cell_type": "code",
   "execution_count": null,
   "metadata": {},
   "outputs": [],
   "source": [
    "soup.find('a')[8]['href']"
   ]
  },
  {
   "cell_type": "code",
   "execution_count": null,
   "metadata": {},
   "outputs": [],
   "source": [
    "### Corresponding category can be gotten from the url\n",
    "soup.find('a')[8]['href'][10:-2]"
   ]
  },
  {
   "cell_type": "code",
   "execution_count": null,
   "metadata": {},
   "outputs": [],
   "source": [
    "base = 'https://okadabooks.com'\n",
    "urls=[]\n",
    "category= []\n",
    "for i in range(8,30):\n",
    "    urls.append(base + soup.find_all('a')[i]['href'])\n",
    "    if i <=16:\n",
    "        category.append(soup.find_all('a')[i]['href'][10:-2])\n",
    "    else:\n",
    "        category.append(soup.find_all('a')[i]['href'][10:-3])"
   ]
  },
  {
   "cell_type": "code",
   "execution_count": null,
   "metadata": {},
   "outputs": [],
   "source": [
    "urls"
   ]
  },
  {
   "cell_type": "code",
   "execution_count": null,
   "metadata": {},
   "outputs": [],
   "source": [
    "### Creating a dictionary with category as its value\n",
    "cat= dict(zip(urls,category))"
   ]
  },
  {
   "cell_type": "code",
   "execution_count": null,
   "metadata": {},
   "outputs": [],
   "source": [
    "cat"
   ]
  },
  {
   "cell_type": "markdown",
   "metadata": {},
   "source": [
    "---"
   ]
  },
  {
   "cell_type": "markdown",
   "metadata": {},
   "source": [
    "## Part 4: Final Scraping"
   ]
  },
  {
   "cell_type": "markdown",
   "metadata": {},
   "source": [
    "All sections of the code as explained above have been merged into a forloop that iterates through the 22 pages."
   ]
  },
  {
   "cell_type": "code",
   "execution_count": null,
   "metadata": {},
   "outputs": [],
   "source": [
    "## important\n",
    "\n",
    "from selenium import webdriver\n",
    "import requests\n",
    "from bs4 import BeautifulSoup\n",
    "import time\n",
    "\n",
    "headers = {'User-Agent': 'Mozilla/5.0 (Windows NT 6.3; Win64; x64) AppleWebKit/537.36 (KHTML, like Gecko) Chrome/54.0.2840.71 Safari/537.36'}\n",
    "r = requests.get(\"https://okadabooks.com/store\", headers=headers)\n",
    "soup= BeautifulSoup(r.text, 'html.parser')\n",
    "\n",
    "base = 'https://okadabooks.com'\n",
    "urls=[]\n",
    "category= []\n",
    "\n",
    "for i in range(8,30):\n",
    "    urls.append(base + soup.find_all('a')[i]['href'])\n",
    "    if i <=16:\n",
    "        category.append(soup.find_all('a')[i]['href'][10:-2])\n",
    "    else:\n",
    "        category.append(soup.find_all('a')[i]['href'][10:-3])\n",
    "        \n",
    "cat= dict(zip(urls,category))\n",
    "\n",
    "from selenium import webdriver\n",
    "options = webdriver.ChromeOptions()\n",
    "options.add_argument('--ignore-certificate-errors')\n",
    "options.add_argument('--incognito')\n",
    "options.add_argument('--headless')\n",
    "driver=webdriver.Chrome(executable_path= 'C:/Users/ru/Downloads/Programs/chromedriver', chrome_options=options)\n",
    "\n",
    "\n",
    "for url in urls:\n",
    "    driver.get(url)\n",
    "    okada= driver.find_element_by_css_selector('#_app > div.main-wrapper > main > div > main > div > div.col-lg-9 > div > div.container.d-flex.justify-content-center.mb-5 > button')\n",
    "\n",
    "    LoadMore = True\n",
    "    while LoadMore:\n",
    "        time.sleep(1)\n",
    "        try:\n",
    "            okada.click()\n",
    "        except:\n",
    "            LoadMore = False\n",
    "    \n",
    "    page_source= driver.page_source  ##get page source after clicking all load more buttons\n",
    "    \n",
    "    soup= BeautifulSoup(page_source, 'html.parser')\n",
    "    \n",
    "    bookcards= soup.find_all('div', {'class':'book__card'})\n",
    "    bookcard= bookcards[0]\n",
    "      \n",
    "    records=[]\n",
    "    \n",
    "    for bookcard in bookcards:\n",
    "        title= bookcard.find('span', {'class':\"text-truncate\"}).text\n",
    "        author= bookcard.find('h5', {'class':\"name\"}).text[3:]\n",
    "        genre= cat[url]\n",
    "        price= bookcard.find(\"strong\").text[1:-3]\n",
    "        ratings= bookcard.find('div', {'title':\"ratings\"}).text\n",
    "        reads= bookcard.find('div', {'class':\"reads\"}).text[:-5]\n",
    "        blurb = bookcard.find('p', {'class':\"description\"}).text\n",
    "        book_link= base + bookcard.find('a')['href']\n",
    "        \n",
    "        records.append(( title, author, genre, price, ratings, reads, blurb, book_link ))\n",
    "        \n",
    "    time.sleep(1)\n",
    "\n",
    "print(\"i have succesfully scraped {} books\".format(len(title)))"
   ]
  },
  {
   "cell_type": "code",
   "execution_count": 3,
   "metadata": {},
   "outputs": [
    {
     "data": {
      "text/plain": [
       "26400"
      ]
     },
     "execution_count": 3,
     "metadata": {},
     "output_type": "execute_result"
    }
   ],
   "source": []
  },
  {
   "cell_type": "code",
   "execution_count": null,
   "metadata": {},
   "outputs": [],
   "source": [
    "len(records)"
   ]
  },
  {
   "cell_type": "code",
   "execution_count": null,
   "metadata": {},
   "outputs": [],
   "source": [
    "records[0:3]"
   ]
  },
  {
   "cell_type": "code",
   "execution_count": 6,
   "metadata": {},
   "outputs": [],
   "source": [
    "import pandas as pd\n"
   ]
  },
  {
   "cell_type": "code",
   "execution_count": null,
   "metadata": {},
   "outputs": [],
   "source": [
    "df= pd.DataFrame(records, columns= [\"title\", \"author\", \"genre\", \"price\", \"ratings\", \"reads\",\"blurb\", \"book_link\"])"
   ]
  },
  {
   "cell_type": "code",
   "execution_count": null,
   "metadata": {},
   "outputs": [],
   "source": [
    "df.head()"
   ]
  }
 ],
 "metadata": {
  "kernelspec": {
   "display_name": "Python 3",
   "language": "python",
   "name": "python3"
  },
  "language_info": {
   "codemirror_mode": {
    "name": "ipython",
    "version": 3
   },
   "file_extension": ".py",
   "mimetype": "text/x-python",
   "name": "python",
   "nbconvert_exporter": "python",
   "pygments_lexer": "ipython3",
   "version": "3.7.1"
  }
 },
 "nbformat": 4,
 "nbformat_minor": 2
}
